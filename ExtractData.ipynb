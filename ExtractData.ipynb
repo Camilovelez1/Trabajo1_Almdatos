{
 "cells": [
  {
   "cell_type": "code",
   "execution_count": 1,
   "metadata": {},
   "outputs": [],
   "source": [
    "import requests\n",
    "import datetime as dt\n",
    "import base64\n",
    "import time as tm\n",
    "from zipfile import ZipFile\n",
    "import logging\n",
    "import boto3\n",
    "from botocore.exceptions import ClientError\n",
    "from azure.storage.blob import BlobServiceClient\n",
    "import os\n",
    "from dotenv import load_dotenv, find_dotenv"
   ]
  },
  {
   "cell_type": "code",
   "execution_count": 2,
   "metadata": {},
   "outputs": [
    {
     "name": "stdout",
     "output_type": "stream",
     "text": [
      "/home/david/eafit/Trabajo1_Almdatos/.env\n"
     ]
    },
    {
     "data": {
      "text/plain": [
       "True"
      ]
     },
     "execution_count": 2,
     "metadata": {},
     "output_type": "execute_result"
    }
   ],
   "source": [
    "env_file = find_dotenv()\n",
    "print(env_file)\n",
    "load_dotenv(find_dotenv())"
   ]
  },
  {
   "cell_type": "code",
   "execution_count": 3,
   "metadata": {},
   "outputs": [],
   "source": [
    "def get_current_day_data():\n",
    "    current_datetime = dt.datetime.now()\n",
    "    day = current_datetime.day\n",
    "    month = current_datetime.month\n",
    "    year = current_datetime.year\n",
    "    return day, month, year"
   ]
  },
  {
   "cell_type": "code",
   "execution_count": 4,
   "metadata": {},
   "outputs": [],
   "source": [
    "def get_previous_day_formatted():\n",
    "    # Get the current date\n",
    "    current_date = dt.datetime.now()\n",
    "    \n",
    "    # Calculate the previous day's date\n",
    "    previous_day = current_date - dt.timedelta(days=1)\n",
    "    \n",
    "    # Format the previous day's date as a string in \"dd-mm-yyyy\" format\n",
    "    previous_day_formatted = previous_day.strftime(\"%d-%m-%Y\")\n",
    "    \n",
    "    return previous_day_formatted"
   ]
  },
  {
   "cell_type": "code",
   "execution_count": 5,
   "metadata": {},
   "outputs": [],
   "source": [
    "def upload_file_to_s3(file_name: str, bucket: str, object_name=None):\n",
    "    # If S3 object_name was not specified, use file_name\n",
    "    if object_name is None:\n",
    "        object_name = os.path.basename(file_name)\n",
    "\n",
    "    # Upload the file\n",
    "    s3_client = boto3.client(\"s3\")\n",
    "    try:\n",
    "        s3_client.upload_file(\n",
    "            file_name,\n",
    "            bucket,\n",
    "            object_name,\n",
    "            ExtraArgs={\"ACL\": \"bucket-owner-full-control\"},\n",
    "        )\n",
    "    except ClientError as e:\n",
    "        logging.error(e)\n",
    "        return False\n",
    "    return True"
   ]
  },
  {
   "cell_type": "code",
   "execution_count": 6,
   "metadata": {},
   "outputs": [],
   "source": [
    "def upload_file_to_azblob(file_name: str, container_name: str, object_name=None):\n",
    "    # If object_name was not specified, use file_name\n",
    "    if object_name is None:\n",
    "        object_name = os.path.basename(file_name)\n",
    "\n",
    "    # Upload the file\n",
    "    blob_service_client = BlobServiceClient.from_connection_string(\n",
    "        os.getenv(\"AZURE_STORAGE_CONNECTION_STRING\")\n",
    "    )\n",
    "    blob_client = blob_service_client.get_blob_client(\n",
    "        container=container_name, blob=object_name\n",
    "    )\n",
    "    try:\n",
    "        with open(file_name, \"rb\") as data:\n",
    "            blob_client.upload_blob(data=data)\n",
    "    except ClientError as e:\n",
    "        logging.error(e)\n",
    "        return False\n",
    "    return True"
   ]
  },
  {
   "cell_type": "code",
   "execution_count": 7,
   "metadata": {},
   "outputs": [],
   "source": [
    "def extract_file(file_name: str, output_path: str):\n",
    "    with ZipFile(file_name, \"r\") as zipFile:\n",
    "        zipFile.extract(\"excel.csv.csv\", output_path)\n",
    "    zipFile.close()"
   ]
  },
  {
   "cell_type": "code",
   "execution_count": 8,
   "metadata": {},
   "outputs": [],
   "source": [
    "def submit_job(field: str, label: str, initial_date=None, final_date=None):\n",
    "    submit_job_url = \"http://dhime.ideam.gov.co/server/rest/services/AtencionCiudadano/DescargarArchivo/GPServer/DescargarArchivo/submitJob\"\n",
    "    headers = {\n",
    "        \"Accept\": \"*/*\",\n",
    "        \"Accept-Language\": \"en-US,en;q=0.9\",\n",
    "        \"Content-Type\": \"application/x-www-form-urlencoded\",\n",
    "        \"Origin\": \"http://dhime.ideam.gov.co\",\n",
    "        \"Referer\": \"http://dhime.ideam.gov.co/atencionciudadano/\",\n",
    "        \"Sec-GPC\": \"1\",\n",
    "    }\n",
    "\n",
    "    if not initial_date:\n",
    "        initial_day, initial_month, initial_year = get_current_day_data()\n",
    "    else:\n",
    "        initial_day, initial_month, initial_year = map(int, initial_date.split(\"-\"))\n",
    "    if not final_date:\n",
    "        final_day, final_month, final_year = get_current_day_data()\n",
    "    else:\n",
    "        final_day, final_month, final_year = map(int, final_date.split(\"-\"))\n",
    "\n",
    "    data = f\"f=json&Filtro=sort%3D%26filter%3D((IdParametro~eq~%27{field}%27~and~Etiqueta~eq~%27{label}%27~and~IdEstacion~eq~%2726205080%27)~or~(IdParametro~eq~%27{field}%27~and~Etiqueta~eq~%27{label}%27~and~IdEstacion~eq~%2727015330%27)~or~(IdParametro~eq~%27{field}%27~and~Etiqueta~eq~%27{label}%27~and~IdEstacion~eq~%2727010810%27))%26group%3D%26fechaInicio%3D{initial_year}-{initial_month}-{initial_day}T05%253A00%253A00.000Z%26fechaFin%3D{final_year}-{final_month}-{final_day}T05%253A00%253A00.000Z%26mostrarGrado%3Dtrue%26mostrarCalificador%3Dtrue%26mostrarNivelAprobacion%3Dtrue&Items=%5B%7B%22IdParametro%22%3A%22{field}%22%2C%22Etiqueta%22%3A%22{label}%22%2C%22EsEjeY1%22%3Afalse%2C%22EsEjeY2%22%3Afalse%2C%22EsTipoLinea%22%3Afalse%2C%22EsTipoBarra%22%3Afalse%2C%22TipoSerie%22%3A%22Estandard%22%2C%22Calculo%22%3A%22%22%7D%2C%7B%22IdParametro%22%3A%22{field}%22%2C%22Etiqueta%22%3A%22{label}%22%2C%22EsEjeY1%22%3Afalse%2C%22EsEjeY2%22%3Afalse%2C%22EsTipoLinea%22%3Afalse%2C%22EsTipoBarra%22%3Afalse%2C%22TipoSerie%22%3A%22Estandard%22%2C%22Calculo%22%3A%22%22%7D%2C%7B%22IdParametro%22%3A%22{field}%22%2C%22Etiqueta%22%3A%22{label}%22%2C%22EsEjeY1%22%3Afalse%2C%22EsEjeY2%22%3Afalse%2C%22EsTipoLinea%22%3Afalse%2C%22EsTipoBarra%22%3Afalse%2C%22TipoSerie%22%3A%22Estandard%22%2C%22Calculo%22%3A%22%22%7D%5D\"\n",
    "\n",
    "    print(\n",
    "        f\"Retrieving information for field {field} from {initial_day}-{initial_month}-{initial_year} to {final_day}-{final_month}-{final_year}...\"\n",
    "    )\n",
    "\n",
    "    response = requests.get(\n",
    "        f\"{submit_job_url}?{data}\",\n",
    "        headers=headers,\n",
    "        verify=False,\n",
    "    )\n",
    "\n",
    "    print(response.url)\n",
    "\n",
    "    response_json = response.json()\n",
    "    job_id = response_json[\"jobId\"]\n",
    "    job_status = response_json[\"jobStatus\"]\n",
    "\n",
    "    print(f\"Job ID: {job_id}\")\n",
    "    print(f\"Job Status: {job_status}\")\n",
    "    return job_id"
   ]
  },
  {
   "cell_type": "code",
   "execution_count": 9,
   "metadata": {},
   "outputs": [],
   "source": [
    "def verify_status_job(job_id: str):\n",
    "    headers = {\n",
    "        \"Accept\": \"*/*\",\n",
    "        \"Accept-Language\": \"en-US,en;q=0.9\",\n",
    "        \"Content-Type\": \"application/x-www-form-urlencoded\",\n",
    "        \"Referer\": \"http://dhime.ideam.gov.co/atencionciudadano/\",\n",
    "        \"Sec-GPC\": \"1\",\n",
    "    }\n",
    "\n",
    "    timestamp = int(tm.time())\n",
    "\n",
    "    response = requests.get(\n",
    "        f\"http://dhime.ideam.gov.co/server/rest/services/AtencionCiudadano/DescargarArchivo/GPServer/DescargarArchivo/jobs/{job_id}?f=json&dojo.preventCache={timestamp}\",\n",
    "        headers=headers,\n",
    "        verify=False,\n",
    "    )\n",
    "\n",
    "    response_get_status_json = response.json()\n",
    "    print(f\"Job status: {response_get_status_json['jobStatus']}\")\n",
    "    return response_get_status_json[\"jobStatus\"]"
   ]
  },
  {
   "cell_type": "code",
   "execution_count": 10,
   "metadata": {},
   "outputs": [],
   "source": [
    "def download_file_from_api(job_id: str, zip_file_name=\"datos.zip\"):\n",
    "    headers = {\n",
    "        \"Accept\": \"*/*\",\n",
    "        \"Accept-Language\": \"en-US,en;q=0.9\",\n",
    "        \"Content-Type\": \"application/x-www-form-urlencoded\",\n",
    "        \"Referer\": \"http://dhime.ideam.gov.co/atencionciudadano/\",\n",
    "        \"Sec-GPC\": \"1\",\n",
    "    }\n",
    "\n",
    "    timestamp = int(tm.time())\n",
    "\n",
    "    params = {\"f\": \"json\", \"returnType\": \"data\", \"dojo.preventCache\": timestamp}\n",
    "\n",
    "    response = requests.get(\n",
    "        f\"http://dhime.ideam.gov.co/server/rest/services/AtencionCiudadano/DescargarArchivo/GPServer/DescargarArchivo/jobs/{job_id}/results/Archivo\",\n",
    "        params=params,\n",
    "        headers=headers,\n",
    "        verify=False,\n",
    "    )\n",
    "\n",
    "    print(response.url)\n",
    "\n",
    "    response_json_get_file = response.json()\n",
    "    file_content = response_json_get_file[\"value\"]\n",
    "\n",
    "    if (\n",
    "        file_content == \"Sequence contains no elements\"\n",
    "        or file_content == \"No hay información para el rango seleccionado\"\n",
    "    ):\n",
    "        print(\"No data available\")\n",
    "        return False\n",
    "\n",
    "    try:\n",
    "        decoded_file_content = base64.b64decode(file_content)\n",
    "        with open(zip_file_name, \"wb\") as f:\n",
    "            f.write(decoded_file_content)\n",
    "        return True\n",
    "    except Exception as e:\n",
    "        print(f\"Error: {e}\")\n",
    "        return False"
   ]
  },
  {
   "cell_type": "code",
   "execution_count": 11,
   "metadata": {},
   "outputs": [],
   "source": [
    "def extract_and_upload_file(field: str, label: str, initial_date=None, final_date=None):\n",
    "    job_id = submit_job(field, label, initial_date, final_date)\n",
    "    tm.sleep(15)\n",
    "    verify_status_job(job_id)\n",
    "    result = download_file_from_api(job_id)\n",
    "    if not result:\n",
    "        return\n",
    "    s3_bucket_name = \"climaticchange-datalake\"\n",
    "    container_name = \"filesystemclimaticchange\"\n",
    "    zip_file_name = \"datos.zip\"\n",
    "    output_path = \"datos\"\n",
    "    day, month, year = get_current_day_data()\n",
    "    object_name = (\n",
    "        f\"datasets_ideam/raw/hist_data/{year}_{month}_{day}_{field}_{label}_datos.csv\"\n",
    "    )\n",
    "    extract_file(zip_file_name, output_path)\n",
    "    upload_file_to_s3(f\"{output_path}/excel.csv.csv\", s3_bucket_name, object_name)\n",
    "    upload_file_to_azblob(\n",
    "        f\"{output_path}/excel.csv.csv\", container_name, object_name\n",
    "    )"
   ]
  },
  {
   "cell_type": "code",
   "execution_count": 12,
   "metadata": {},
   "outputs": [
    {
     "name": "stdout",
     "output_type": "stream",
     "text": [
      "Retrieving information for field TEMPERATURA from 2-9-2023 to 3-9-2023...\n"
     ]
    },
    {
     "name": "stdout",
     "output_type": "stream",
     "text": [
      "http://dhime.ideam.gov.co/server/rest/services/AtencionCiudadano/DescargarArchivo/GPServer/DescargarArchivo/submitJob?f=json&Filtro=sort%3D%26filter%3D((IdParametro~eq~%27TEMPERATURA%27~and~Etiqueta~eq~%27TMX_CON%27~and~IdEstacion~eq~%2726205080%27)~or~(IdParametro~eq~%27TEMPERATURA%27~and~Etiqueta~eq~%27TMX_CON%27~and~IdEstacion~eq~%2727015330%27)~or~(IdParametro~eq~%27TEMPERATURA%27~and~Etiqueta~eq~%27TMX_CON%27~and~IdEstacion~eq~%2727010810%27))%26group%3D%26fechaInicio%3D2023-9-2T05%253A00%253A00.000Z%26fechaFin%3D2023-9-3T05%253A00%253A00.000Z%26mostrarGrado%3Dtrue%26mostrarCalificador%3Dtrue%26mostrarNivelAprobacion%3Dtrue&Items=%5B%7B%22IdParametro%22%3A%22TEMPERATURA%22%2C%22Etiqueta%22%3A%22TMX_CON%22%2C%22EsEjeY1%22%3Afalse%2C%22EsEjeY2%22%3Afalse%2C%22EsTipoLinea%22%3Afalse%2C%22EsTipoBarra%22%3Afalse%2C%22TipoSerie%22%3A%22Estandard%22%2C%22Calculo%22%3A%22%22%7D%2C%7B%22IdParametro%22%3A%22TEMPERATURA%22%2C%22Etiqueta%22%3A%22TMX_CON%22%2C%22EsEjeY1%22%3Afalse%2C%22EsEjeY2%22%3Afalse%2C%22EsTipoLinea%22%3Afalse%2C%22EsTipoBarra%22%3Afalse%2C%22TipoSerie%22%3A%22Estandard%22%2C%22Calculo%22%3A%22%22%7D%2C%7B%22IdParametro%22%3A%22TEMPERATURA%22%2C%22Etiqueta%22%3A%22TMX_CON%22%2C%22EsEjeY1%22%3Afalse%2C%22EsEjeY2%22%3Afalse%2C%22EsTipoLinea%22%3Afalse%2C%22EsTipoBarra%22%3Afalse%2C%22TipoSerie%22%3A%22Estandard%22%2C%22Calculo%22%3A%22%22%7D%5D\n",
      "Job ID: jd10560f925d143839a946cf5d154e09e\n",
      "Job Status: esriJobSubmitted\n",
      "Job status: esriJobSucceeded\n",
      "http://dhime.ideam.gov.co/server/rest/services/AtencionCiudadano/DescargarArchivo/GPServer/DescargarArchivo/jobs/jd10560f925d143839a946cf5d154e09e/results/Archivo?f=json&returnType=data&dojo.preventCache=1693776377\n",
      "Retrieving information for field TEMPERATURA from 2-9-2023 to 3-9-2023...\n",
      "http://dhime.ideam.gov.co/server/rest/services/AtencionCiudadano/DescargarArchivo/GPServer/DescargarArchivo/submitJob?f=json&Filtro=sort%3D%26filter%3D((IdParametro~eq~%27TEMPERATURA%27~and~Etiqueta~eq~%27TMN_CON%27~and~IdEstacion~eq~%2726205080%27)~or~(IdParametro~eq~%27TEMPERATURA%27~and~Etiqueta~eq~%27TMN_CON%27~and~IdEstacion~eq~%2727015330%27)~or~(IdParametro~eq~%27TEMPERATURA%27~and~Etiqueta~eq~%27TMN_CON%27~and~IdEstacion~eq~%2727010810%27))%26group%3D%26fechaInicio%3D2023-9-2T05%253A00%253A00.000Z%26fechaFin%3D2023-9-3T05%253A00%253A00.000Z%26mostrarGrado%3Dtrue%26mostrarCalificador%3Dtrue%26mostrarNivelAprobacion%3Dtrue&Items=%5B%7B%22IdParametro%22%3A%22TEMPERATURA%22%2C%22Etiqueta%22%3A%22TMN_CON%22%2C%22EsEjeY1%22%3Afalse%2C%22EsEjeY2%22%3Afalse%2C%22EsTipoLinea%22%3Afalse%2C%22EsTipoBarra%22%3Afalse%2C%22TipoSerie%22%3A%22Estandard%22%2C%22Calculo%22%3A%22%22%7D%2C%7B%22IdParametro%22%3A%22TEMPERATURA%22%2C%22Etiqueta%22%3A%22TMN_CON%22%2C%22EsEjeY1%22%3Afalse%2C%22EsEjeY2%22%3Afalse%2C%22EsTipoLinea%22%3Afalse%2C%22EsTipoBarra%22%3Afalse%2C%22TipoSerie%22%3A%22Estandard%22%2C%22Calculo%22%3A%22%22%7D%2C%7B%22IdParametro%22%3A%22TEMPERATURA%22%2C%22Etiqueta%22%3A%22TMN_CON%22%2C%22EsEjeY1%22%3Afalse%2C%22EsEjeY2%22%3Afalse%2C%22EsTipoLinea%22%3Afalse%2C%22EsTipoBarra%22%3Afalse%2C%22TipoSerie%22%3A%22Estandard%22%2C%22Calculo%22%3A%22%22%7D%5D\n",
      "Job ID: j7360cbd18b3d4d888583a83716d5c303\n",
      "Job Status: esriJobSubmitted\n",
      "Job status: esriJobSucceeded\n",
      "http://dhime.ideam.gov.co/server/rest/services/AtencionCiudadano/DescargarArchivo/GPServer/DescargarArchivo/jobs/j7360cbd18b3d4d888583a83716d5c303/results/Archivo?f=json&returnType=data&dojo.preventCache=1693776394\n",
      "Retrieving information for field HUM+RELATIVA from 2-9-2023 to 3-9-2023...\n",
      "http://dhime.ideam.gov.co/server/rest/services/AtencionCiudadano/DescargarArchivo/GPServer/DescargarArchivo/submitJob?f=json&Filtro=sort%3D%26filter%3D((IdParametro~eq~%27HUM+RELATIVA%27~and~Etiqueta~eq~%27HR_CAL_MN_D%27~and~IdEstacion~eq~%2726205080%27)~or~(IdParametro~eq~%27HUM+RELATIVA%27~and~Etiqueta~eq~%27HR_CAL_MN_D%27~and~IdEstacion~eq~%2727015330%27)~or~(IdParametro~eq~%27HUM+RELATIVA%27~and~Etiqueta~eq~%27HR_CAL_MN_D%27~and~IdEstacion~eq~%2727010810%27))%26group%3D%26fechaInicio%3D2023-9-2T05%253A00%253A00.000Z%26fechaFin%3D2023-9-3T05%253A00%253A00.000Z%26mostrarGrado%3Dtrue%26mostrarCalificador%3Dtrue%26mostrarNivelAprobacion%3Dtrue&Items=%5B%7B%22IdParametro%22%3A%22HUM+RELATIVA%22%2C%22Etiqueta%22%3A%22HR_CAL_MN_D%22%2C%22EsEjeY1%22%3Afalse%2C%22EsEjeY2%22%3Afalse%2C%22EsTipoLinea%22%3Afalse%2C%22EsTipoBarra%22%3Afalse%2C%22TipoSerie%22%3A%22Estandard%22%2C%22Calculo%22%3A%22%22%7D%2C%7B%22IdParametro%22%3A%22HUM+RELATIVA%22%2C%22Etiqueta%22%3A%22HR_CAL_MN_D%22%2C%22EsEjeY1%22%3Afalse%2C%22EsEjeY2%22%3Afalse%2C%22EsTipoLinea%22%3Afalse%2C%22EsTipoBarra%22%3Afalse%2C%22TipoSerie%22%3A%22Estandard%22%2C%22Calculo%22%3A%22%22%7D%2C%7B%22IdParametro%22%3A%22HUM+RELATIVA%22%2C%22Etiqueta%22%3A%22HR_CAL_MN_D%22%2C%22EsEjeY1%22%3Afalse%2C%22EsEjeY2%22%3Afalse%2C%22EsTipoLinea%22%3Afalse%2C%22EsTipoBarra%22%3Afalse%2C%22TipoSerie%22%3A%22Estandard%22%2C%22Calculo%22%3A%22%22%7D%5D\n",
      "Job ID: jbb68070833214925b55e1bb5743ef5d6\n",
      "Job Status: esriJobSubmitted\n",
      "Job status: esriJobSucceeded\n",
      "http://dhime.ideam.gov.co/server/rest/services/AtencionCiudadano/DescargarArchivo/GPServer/DescargarArchivo/jobs/jbb68070833214925b55e1bb5743ef5d6/results/Archivo?f=json&returnType=data&dojo.preventCache=1693776411\n",
      "No data available\n",
      "Retrieving information for field HUM+RELATIVA from 2-9-2023 to 3-9-2023...\n",
      "http://dhime.ideam.gov.co/server/rest/services/AtencionCiudadano/DescargarArchivo/GPServer/DescargarArchivo/submitJob?f=json&Filtro=sort%3D%26filter%3D((IdParametro~eq~%27HUM+RELATIVA%27~and~Etiqueta~eq~%27HR_CAL_MX_D%27~and~IdEstacion~eq~%2726205080%27)~or~(IdParametro~eq~%27HUM+RELATIVA%27~and~Etiqueta~eq~%27HR_CAL_MX_D%27~and~IdEstacion~eq~%2727015330%27)~or~(IdParametro~eq~%27HUM+RELATIVA%27~and~Etiqueta~eq~%27HR_CAL_MX_D%27~and~IdEstacion~eq~%2727010810%27))%26group%3D%26fechaInicio%3D2023-9-2T05%253A00%253A00.000Z%26fechaFin%3D2023-9-3T05%253A00%253A00.000Z%26mostrarGrado%3Dtrue%26mostrarCalificador%3Dtrue%26mostrarNivelAprobacion%3Dtrue&Items=%5B%7B%22IdParametro%22%3A%22HUM+RELATIVA%22%2C%22Etiqueta%22%3A%22HR_CAL_MX_D%22%2C%22EsEjeY1%22%3Afalse%2C%22EsEjeY2%22%3Afalse%2C%22EsTipoLinea%22%3Afalse%2C%22EsTipoBarra%22%3Afalse%2C%22TipoSerie%22%3A%22Estandard%22%2C%22Calculo%22%3A%22%22%7D%2C%7B%22IdParametro%22%3A%22HUM+RELATIVA%22%2C%22Etiqueta%22%3A%22HR_CAL_MX_D%22%2C%22EsEjeY1%22%3Afalse%2C%22EsEjeY2%22%3Afalse%2C%22EsTipoLinea%22%3Afalse%2C%22EsTipoBarra%22%3Afalse%2C%22TipoSerie%22%3A%22Estandard%22%2C%22Calculo%22%3A%22%22%7D%2C%7B%22IdParametro%22%3A%22HUM+RELATIVA%22%2C%22Etiqueta%22%3A%22HR_CAL_MX_D%22%2C%22EsEjeY1%22%3Afalse%2C%22EsEjeY2%22%3Afalse%2C%22EsTipoLinea%22%3Afalse%2C%22EsTipoBarra%22%3Afalse%2C%22TipoSerie%22%3A%22Estandard%22%2C%22Calculo%22%3A%22%22%7D%5D\n",
      "Job ID: jeaa3a0bb4f0244d1a562d7e6bb741247\n",
      "Job Status: esriJobSubmitted\n",
      "Job status: esriJobSucceeded\n",
      "http://dhime.ideam.gov.co/server/rest/services/AtencionCiudadano/DescargarArchivo/GPServer/DescargarArchivo/jobs/jeaa3a0bb4f0244d1a562d7e6bb741247/results/Archivo?f=json&returnType=data&dojo.preventCache=1693776426\n",
      "No data available\n",
      "Retrieving information for field PRECIPITACION from 2-9-2023 to 3-9-2023...\n",
      "http://dhime.ideam.gov.co/server/rest/services/AtencionCiudadano/DescargarArchivo/GPServer/DescargarArchivo/submitJob?f=json&Filtro=sort%3D%26filter%3D((IdParametro~eq~%27PRECIPITACION%27~and~Etiqueta~eq~%27PT_10_TT_D%27~and~IdEstacion~eq~%2726205080%27)~or~(IdParametro~eq~%27PRECIPITACION%27~and~Etiqueta~eq~%27PT_10_TT_D%27~and~IdEstacion~eq~%2727015330%27)~or~(IdParametro~eq~%27PRECIPITACION%27~and~Etiqueta~eq~%27PT_10_TT_D%27~and~IdEstacion~eq~%2727010810%27))%26group%3D%26fechaInicio%3D2023-9-2T05%253A00%253A00.000Z%26fechaFin%3D2023-9-3T05%253A00%253A00.000Z%26mostrarGrado%3Dtrue%26mostrarCalificador%3Dtrue%26mostrarNivelAprobacion%3Dtrue&Items=%5B%7B%22IdParametro%22%3A%22PRECIPITACION%22%2C%22Etiqueta%22%3A%22PT_10_TT_D%22%2C%22EsEjeY1%22%3Afalse%2C%22EsEjeY2%22%3Afalse%2C%22EsTipoLinea%22%3Afalse%2C%22EsTipoBarra%22%3Afalse%2C%22TipoSerie%22%3A%22Estandard%22%2C%22Calculo%22%3A%22%22%7D%2C%7B%22IdParametro%22%3A%22PRECIPITACION%22%2C%22Etiqueta%22%3A%22PT_10_TT_D%22%2C%22EsEjeY1%22%3Afalse%2C%22EsEjeY2%22%3Afalse%2C%22EsTipoLinea%22%3Afalse%2C%22EsTipoBarra%22%3Afalse%2C%22TipoSerie%22%3A%22Estandard%22%2C%22Calculo%22%3A%22%22%7D%2C%7B%22IdParametro%22%3A%22PRECIPITACION%22%2C%22Etiqueta%22%3A%22PT_10_TT_D%22%2C%22EsEjeY1%22%3Afalse%2C%22EsEjeY2%22%3Afalse%2C%22EsTipoLinea%22%3Afalse%2C%22EsTipoBarra%22%3Afalse%2C%22TipoSerie%22%3A%22Estandard%22%2C%22Calculo%22%3A%22%22%7D%5D\n",
      "Job ID: j9d5981c2caca45d89db9f1b638e779eb\n",
      "Job Status: esriJobSubmitted\n",
      "Job status: esriJobSucceeded\n",
      "http://dhime.ideam.gov.co/server/rest/services/AtencionCiudadano/DescargarArchivo/GPServer/DescargarArchivo/jobs/j9d5981c2caca45d89db9f1b638e779eb/results/Archivo?f=json&returnType=data&dojo.preventCache=1693776442\n",
      "No data available\n"
     ]
    }
   ],
   "source": [
    "initial_date = get_previous_day_formatted()\n",
    "fields_and_labels = [\n",
    "    (\"TEMPERATURA\", \"TMX_CON\", initial_date, None),\n",
    "    (\"TEMPERATURA\", \"TMN_CON\", initial_date, None),\n",
    "    (\"HUM+RELATIVA\", \"HR_CAL_MN_D\", initial_date, None),\n",
    "    (\"HUM+RELATIVA\", \"HR_CAL_MX_D\", initial_date, None),\n",
    "    (\"PRECIPITACION\", \"PT_10_TT_D\", initial_date, None),\n",
    "]\n",
    "for fields in fields_and_labels:\n",
    "    extract_and_upload_file(fields[0], fields[1], fields[2], fields[3])"
   ]
  }
 ],
 "metadata": {
  "kernelspec": {
   "display_name": "Trabajo1_Almdatos-AQFNpnVz",
   "language": "python",
   "name": "python3"
  },
  "language_info": {
   "codemirror_mode": {
    "name": "ipython",
    "version": 3
   },
   "file_extension": ".py",
   "mimetype": "text/x-python",
   "name": "python",
   "nbconvert_exporter": "python",
   "pygments_lexer": "ipython3",
   "version": "3.11.4"
  },
  "orig_nbformat": 4
 },
 "nbformat": 4,
 "nbformat_minor": 2
}
