{
 "cells": [
  {
   "cell_type": "code",
   "execution_count": 11,
   "metadata": {},
   "outputs": [],
   "source": [
    "import requests\n",
    "import datetime as dt\n",
    "import base64\n",
    "import time as tm\n",
    "from zipfile import ZipFile\n",
    "import logging\n",
    "import boto3\n",
    "from botocore.exceptions import ClientError\n",
    "import os\n",
    "from dotenv import load_dotenv, find_dotenv"
   ]
  },
  {
   "cell_type": "code",
   "execution_count": 12,
   "metadata": {},
   "outputs": [
    {
     "name": "stdout",
     "output_type": "stream",
     "text": [
      "/home/david/eafit/Trabajo1_Almdatos/.env\n"
     ]
    },
    {
     "data": {
      "text/plain": [
       "True"
      ]
     },
     "execution_count": 12,
     "metadata": {},
     "output_type": "execute_result"
    }
   ],
   "source": [
    "env_file = find_dotenv()\n",
    "print(env_file)\n",
    "load_dotenv(find_dotenv())"
   ]
  },
  {
   "cell_type": "code",
   "execution_count": 13,
   "metadata": {},
   "outputs": [],
   "source": [
    "def get_current_day_data():\n",
    "    current_datetime = dt.datetime.now()\n",
    "    day = current_datetime.day\n",
    "    month = current_datetime.month\n",
    "    year = current_datetime.year\n",
    "    return day, month, year"
   ]
  },
  {
   "cell_type": "code",
   "execution_count": 14,
   "metadata": {},
   "outputs": [],
   "source": [
    "def upload_file_to_s3(file_name: str, bucket: str, object_name = None):\n",
    "    # If S3 object_name was not specified, use file_name\n",
    "    if object_name is None:\n",
    "        object_name = os.path.basename(file_name)\n",
    "\n",
    "    # Upload the file\n",
    "    s3_client = boto3.client('s3')\n",
    "    try:\n",
    "        s3_client.upload_file(file_name, bucket, object_name, ExtraArgs={'ACL':'bucket-owner-full-control'})\n",
    "    except ClientError as e:\n",
    "        logging.error(e)\n",
    "        return False\n",
    "    return True"
   ]
  },
  {
   "cell_type": "code",
   "execution_count": 15,
   "metadata": {},
   "outputs": [],
   "source": [
    "def extract_file(file_name: str, output_path: str):\n",
    "    with ZipFile(file_name, \"r\") as zipFile:\n",
    "        zipFile.extract(\n",
    "            \"excel.csv.csv\", output_path)\n",
    "    zipFile.close()"
   ]
  },
  {
   "cell_type": "code",
   "execution_count": 16,
   "metadata": {},
   "outputs": [],
   "source": [
    "def submit_job(field: str, label: str, initial_date = None, final_date = None):\n",
    "    submit_job_url = \"http://dhime.ideam.gov.co/server/rest/services/AtencionCiudadano/DescargarArchivo/GPServer/DescargarArchivo/submitJob\"\n",
    "    headers = {\n",
    "        \"Accept\": \"*/*\",\n",
    "        \"Accept-Language\": \"en-US,en;q=0.9\",\n",
    "        \"Content-Type\": \"application/x-www-form-urlencoded\",\n",
    "        \"Origin\": \"http://dhime.ideam.gov.co\",\n",
    "        \"Referer\": \"http://dhime.ideam.gov.co/atencionciudadano/\",\n",
    "        \"Sec-GPC\": \"1\",\n",
    "    }\n",
    "    \n",
    "    if not initial_date:\n",
    "        initial_day, initial_month, initial_year = get_current_day_data()\n",
    "    else:\n",
    "        initial_day, initial_month, initial_year = map(int, initial_date.split('-'))\n",
    "    if not final_date:\n",
    "        final_day, final_month, final_year = get_current_day_data()\n",
    "    else:\n",
    "        final_day, final_month, final_year = map(int, final_date.split('-'))\n",
    "\n",
    "    data = f\"f=json&Filtro=sort%3D%26filter%3D((IdParametro~eq~%27{field}%27~and~Etiqueta~eq~%27{label}%27~and~IdEstacion~eq~%2726205080%27)~or~(IdParametro~eq~%27{field}%27~and~Etiqueta~eq~%27{label}%27~and~IdEstacion~eq~%2727015330%27)~or~(IdParametro~eq~%27{field}%27~and~Etiqueta~eq~%27{label}%27~and~IdEstacion~eq~%2727010810%27))%26group%3D%26fechaInicio%3D{initial_year}-{initial_month}-{initial_day}T05%253A00%253A00.000Z%26fechaFin%3D{final_year}-{final_month}-{final_day}T05%253A00%253A00.000Z%26mostrarGrado%3Dtrue%26mostrarCalificador%3Dtrue%26mostrarNivelAprobacion%3Dtrue&Items=%5B%7B%22IdParametro%22%3A%22{field}%22%2C%22Etiqueta%22%3A%22{label}%22%2C%22EsEjeY1%22%3Afalse%2C%22EsEjeY2%22%3Afalse%2C%22EsTipoLinea%22%3Afalse%2C%22EsTipoBarra%22%3Afalse%2C%22TipoSerie%22%3A%22Estandard%22%2C%22Calculo%22%3A%22%22%7D%2C%7B%22IdParametro%22%3A%22{field}%22%2C%22Etiqueta%22%3A%22{label}%22%2C%22EsEjeY1%22%3Afalse%2C%22EsEjeY2%22%3Afalse%2C%22EsTipoLinea%22%3Afalse%2C%22EsTipoBarra%22%3Afalse%2C%22TipoSerie%22%3A%22Estandard%22%2C%22Calculo%22%3A%22%22%7D%2C%7B%22IdParametro%22%3A%22{field}%22%2C%22Etiqueta%22%3A%22{label}%22%2C%22EsEjeY1%22%3Afalse%2C%22EsEjeY2%22%3Afalse%2C%22EsTipoLinea%22%3Afalse%2C%22EsTipoBarra%22%3Afalse%2C%22TipoSerie%22%3A%22Estandard%22%2C%22Calculo%22%3A%22%22%7D%5D\"\n",
    "\n",
    "    print(f\"Retrieving information for field {field} from {initial_day}-{initial_month}-{initial_year} to {final_day}-{final_month}-{final_year}...\")\n",
    "\n",
    "    response = requests.get(\n",
    "        f\"{submit_job_url}?{data}\",\n",
    "        headers=headers,\n",
    "        verify=False,\n",
    "    )\n",
    "\n",
    "    print(response.url)\n",
    "\n",
    "    response_json = response.json()\n",
    "    job_id = response_json[\"jobId\"]\n",
    "    job_status = response_json[\"jobStatus\"]\n",
    "\n",
    "    print(f\"Job ID: {job_id}\")\n",
    "    print(f\"Job Status: {job_status}\")\n",
    "    return job_id"
   ]
  },
  {
   "cell_type": "code",
   "execution_count": 17,
   "metadata": {},
   "outputs": [],
   "source": [
    "def verify_status_job(job_id: str):\n",
    "    headers = {\n",
    "        'Accept': '*/*',\n",
    "        'Accept-Language': 'en-US,en;q=0.9',\n",
    "        'Content-Type': 'application/x-www-form-urlencoded',\n",
    "        'Referer': 'http://dhime.ideam.gov.co/atencionciudadano/',\n",
    "        'Sec-GPC': '1',\n",
    "    }\n",
    "\n",
    "    timestamp = int(tm.time())\n",
    "\n",
    "    response = requests.get(\n",
    "        f\"http://dhime.ideam.gov.co/server/rest/services/AtencionCiudadano/DescargarArchivo/GPServer/DescargarArchivo/jobs/{job_id}?f=json&dojo.preventCache={timestamp}\",\n",
    "        headers=headers,\n",
    "        verify=False,\n",
    "    )\n",
    "\n",
    "    response_get_status_json = response.json()\n",
    "    print(f\"Job status: {response_get_status_json['jobStatus']}\")\n",
    "    return response_get_status_json[\"jobStatus\"]"
   ]
  },
  {
   "cell_type": "code",
   "execution_count": 18,
   "metadata": {},
   "outputs": [],
   "source": [
    "def download_file_from_api(job_id: str, zip_file_name = \"datos.zip\"):\n",
    "    headers = {\n",
    "        \"Accept\": \"*/*\",\n",
    "        \"Accept-Language\": \"en-US,en;q=0.9\",\n",
    "        \"Content-Type\": \"application/x-www-form-urlencoded\",\n",
    "        \"Referer\": \"http://dhime.ideam.gov.co/atencionciudadano/\",\n",
    "        \"Sec-GPC\": \"1\",\n",
    "    }\n",
    "\n",
    "    timestamp = int(tm.time())\n",
    "\n",
    "    params = {\n",
    "        \"f\": \"json\",\n",
    "        \"returnType\": \"data\",\n",
    "        \"dojo.preventCache\": timestamp\n",
    "    }\n",
    "\n",
    "    response = requests.get(\n",
    "        f\"http://dhime.ideam.gov.co/server/rest/services/AtencionCiudadano/DescargarArchivo/GPServer/DescargarArchivo/jobs/{job_id}/results/Archivo\",\n",
    "        params=params,\n",
    "        headers=headers,\n",
    "        verify=False,\n",
    "    )\n",
    "\n",
    "    print(response.url)\n",
    "\n",
    "    response_json_get_file = response.json()\n",
    "    file_content = response_json_get_file[\"value\"]\n",
    "\n",
    "    if file_content == \"Sequence contains no elements\" or file_content == \"No hay información para el rango seleccionado\":\n",
    "        print(\"No data available\")\n",
    "        return False\n",
    "\n",
    "    try:\n",
    "        decoded_file_content = base64.b64decode(file_content)\n",
    "        with open(zip_file_name, \"wb\") as f:\n",
    "            f.write(decoded_file_content)\n",
    "        return True\n",
    "    except Exception as e:\n",
    "        print(f\"Error: {e}\")\n",
    "        return False"
   ]
  },
  {
   "cell_type": "code",
   "execution_count": 19,
   "metadata": {},
   "outputs": [],
   "source": [
    "def extract_and_upload_file(field: str, label: str, initial_date = None, final_date = None):\n",
    "    job_id = submit_job(field, label, initial_date, final_date)\n",
    "    tm.sleep(15)\n",
    "    verify_status_job(job_id)\n",
    "    result = download_file_from_api(job_id)\n",
    "    if not result:\n",
    "        return\n",
    "    s3_bucket_name = \"climaticchange-datalake\"\n",
    "    zip_file_name = \"datos.zip\"\n",
    "    output_path = \"datos\"\n",
    "    day, month, year = get_current_day_data()\n",
    "    s3_object_name = f\"datasets_ideam/raw/hist_data/{year}_{month}_{day}_{field}_{label}_datos.csv\"\n",
    "    extract_file(zip_file_name, output_path)\n",
    "    upload_file_to_s3(f\"{output_path}/excel.csv.csv\", s3_bucket_name, s3_object_name)"
   ]
  },
  {
   "cell_type": "code",
   "execution_count": 20,
   "metadata": {},
   "outputs": [
    {
     "name": "stdout",
     "output_type": "stream",
     "text": [
      "Retrieving information for field TEMPERATURA from 27-8-2023 to 2-9-2023...\n",
      "http://dhime.ideam.gov.co/server/rest/services/AtencionCiudadano/DescargarArchivo/GPServer/DescargarArchivo/submitJob?f=json&Filtro=sort%3D%26filter%3D((IdParametro~eq~%27TEMPERATURA%27~and~Etiqueta~eq~%27TMX_CON%27~and~IdEstacion~eq~%2726205080%27)~or~(IdParametro~eq~%27TEMPERATURA%27~and~Etiqueta~eq~%27TMX_CON%27~and~IdEstacion~eq~%2727015330%27)~or~(IdParametro~eq~%27TEMPERATURA%27~and~Etiqueta~eq~%27TMX_CON%27~and~IdEstacion~eq~%2727010810%27))%26group%3D%26fechaInicio%3D2023-8-27T05%253A00%253A00.000Z%26fechaFin%3D2023-9-2T05%253A00%253A00.000Z%26mostrarGrado%3Dtrue%26mostrarCalificador%3Dtrue%26mostrarNivelAprobacion%3Dtrue&Items=%5B%7B%22IdParametro%22%3A%22TEMPERATURA%22%2C%22Etiqueta%22%3A%22TMX_CON%22%2C%22EsEjeY1%22%3Afalse%2C%22EsEjeY2%22%3Afalse%2C%22EsTipoLinea%22%3Afalse%2C%22EsTipoBarra%22%3Afalse%2C%22TipoSerie%22%3A%22Estandard%22%2C%22Calculo%22%3A%22%22%7D%2C%7B%22IdParametro%22%3A%22TEMPERATURA%22%2C%22Etiqueta%22%3A%22TMX_CON%22%2C%22EsEjeY1%22%3Afalse%2C%22EsEjeY2%22%3Afalse%2C%22EsTipoLinea%22%3Afalse%2C%22EsTipoBarra%22%3Afalse%2C%22TipoSerie%22%3A%22Estandard%22%2C%22Calculo%22%3A%22%22%7D%2C%7B%22IdParametro%22%3A%22TEMPERATURA%22%2C%22Etiqueta%22%3A%22TMX_CON%22%2C%22EsEjeY1%22%3Afalse%2C%22EsEjeY2%22%3Afalse%2C%22EsTipoLinea%22%3Afalse%2C%22EsTipoBarra%22%3Afalse%2C%22TipoSerie%22%3A%22Estandard%22%2C%22Calculo%22%3A%22%22%7D%5D\n",
      "Job ID: jce3e98189139408da0546321f5156025\n",
      "Job Status: esriJobSubmitted\n",
      "Job status: esriJobSucceeded\n",
      "http://dhime.ideam.gov.co/server/rest/services/AtencionCiudadano/DescargarArchivo/GPServer/DescargarArchivo/jobs/jce3e98189139408da0546321f5156025/results/Archivo?f=json&returnType=data&dojo.preventCache=1693682786\n",
      "Retrieving information for field TEMPERATURA from 27-8-2023 to 2-9-2023...\n",
      "http://dhime.ideam.gov.co/server/rest/services/AtencionCiudadano/DescargarArchivo/GPServer/DescargarArchivo/submitJob?f=json&Filtro=sort%3D%26filter%3D((IdParametro~eq~%27TEMPERATURA%27~and~Etiqueta~eq~%27TMN_CON%27~and~IdEstacion~eq~%2726205080%27)~or~(IdParametro~eq~%27TEMPERATURA%27~and~Etiqueta~eq~%27TMN_CON%27~and~IdEstacion~eq~%2727015330%27)~or~(IdParametro~eq~%27TEMPERATURA%27~and~Etiqueta~eq~%27TMN_CON%27~and~IdEstacion~eq~%2727010810%27))%26group%3D%26fechaInicio%3D2023-8-27T05%253A00%253A00.000Z%26fechaFin%3D2023-9-2T05%253A00%253A00.000Z%26mostrarGrado%3Dtrue%26mostrarCalificador%3Dtrue%26mostrarNivelAprobacion%3Dtrue&Items=%5B%7B%22IdParametro%22%3A%22TEMPERATURA%22%2C%22Etiqueta%22%3A%22TMN_CON%22%2C%22EsEjeY1%22%3Afalse%2C%22EsEjeY2%22%3Afalse%2C%22EsTipoLinea%22%3Afalse%2C%22EsTipoBarra%22%3Afalse%2C%22TipoSerie%22%3A%22Estandard%22%2C%22Calculo%22%3A%22%22%7D%2C%7B%22IdParametro%22%3A%22TEMPERATURA%22%2C%22Etiqueta%22%3A%22TMN_CON%22%2C%22EsEjeY1%22%3Afalse%2C%22EsEjeY2%22%3Afalse%2C%22EsTipoLinea%22%3Afalse%2C%22EsTipoBarra%22%3Afalse%2C%22TipoSerie%22%3A%22Estandard%22%2C%22Calculo%22%3A%22%22%7D%2C%7B%22IdParametro%22%3A%22TEMPERATURA%22%2C%22Etiqueta%22%3A%22TMN_CON%22%2C%22EsEjeY1%22%3Afalse%2C%22EsEjeY2%22%3Afalse%2C%22EsTipoLinea%22%3Afalse%2C%22EsTipoBarra%22%3Afalse%2C%22TipoSerie%22%3A%22Estandard%22%2C%22Calculo%22%3A%22%22%7D%5D\n",
      "Job ID: j404890a10b714ddfa0d97d464fab382c\n",
      "Job Status: esriJobSubmitted\n",
      "Job status: esriJobSucceeded\n",
      "http://dhime.ideam.gov.co/server/rest/services/AtencionCiudadano/DescargarArchivo/GPServer/DescargarArchivo/jobs/j404890a10b714ddfa0d97d464fab382c/results/Archivo?f=json&returnType=data&dojo.preventCache=1693682803\n",
      "Retrieving information for field HUM+RELATIVA from 27-8-2023 to 2-9-2023...\n",
      "http://dhime.ideam.gov.co/server/rest/services/AtencionCiudadano/DescargarArchivo/GPServer/DescargarArchivo/submitJob?f=json&Filtro=sort%3D%26filter%3D((IdParametro~eq~%27HUM+RELATIVA%27~and~Etiqueta~eq~%27HR_CAL_MN_D%27~and~IdEstacion~eq~%2726205080%27)~or~(IdParametro~eq~%27HUM+RELATIVA%27~and~Etiqueta~eq~%27HR_CAL_MN_D%27~and~IdEstacion~eq~%2727015330%27)~or~(IdParametro~eq~%27HUM+RELATIVA%27~and~Etiqueta~eq~%27HR_CAL_MN_D%27~and~IdEstacion~eq~%2727010810%27))%26group%3D%26fechaInicio%3D2023-8-27T05%253A00%253A00.000Z%26fechaFin%3D2023-9-2T05%253A00%253A00.000Z%26mostrarGrado%3Dtrue%26mostrarCalificador%3Dtrue%26mostrarNivelAprobacion%3Dtrue&Items=%5B%7B%22IdParametro%22%3A%22HUM+RELATIVA%22%2C%22Etiqueta%22%3A%22HR_CAL_MN_D%22%2C%22EsEjeY1%22%3Afalse%2C%22EsEjeY2%22%3Afalse%2C%22EsTipoLinea%22%3Afalse%2C%22EsTipoBarra%22%3Afalse%2C%22TipoSerie%22%3A%22Estandard%22%2C%22Calculo%22%3A%22%22%7D%2C%7B%22IdParametro%22%3A%22HUM+RELATIVA%22%2C%22Etiqueta%22%3A%22HR_CAL_MN_D%22%2C%22EsEjeY1%22%3Afalse%2C%22EsEjeY2%22%3Afalse%2C%22EsTipoLinea%22%3Afalse%2C%22EsTipoBarra%22%3Afalse%2C%22TipoSerie%22%3A%22Estandard%22%2C%22Calculo%22%3A%22%22%7D%2C%7B%22IdParametro%22%3A%22HUM+RELATIVA%22%2C%22Etiqueta%22%3A%22HR_CAL_MN_D%22%2C%22EsEjeY1%22%3Afalse%2C%22EsEjeY2%22%3Afalse%2C%22EsTipoLinea%22%3Afalse%2C%22EsTipoBarra%22%3Afalse%2C%22TipoSerie%22%3A%22Estandard%22%2C%22Calculo%22%3A%22%22%7D%5D\n",
      "Job ID: j5a881be0c1b34137bf0cd3d09841a89c\n",
      "Job Status: esriJobSubmitted\n",
      "Job status: esriJobSucceeded\n",
      "http://dhime.ideam.gov.co/server/rest/services/AtencionCiudadano/DescargarArchivo/GPServer/DescargarArchivo/jobs/j5a881be0c1b34137bf0cd3d09841a89c/results/Archivo?f=json&returnType=data&dojo.preventCache=1693682819\n",
      "No data available\n",
      "Retrieving information for field HUM+RELATIVA from 27-8-2023 to 2-9-2023...\n",
      "http://dhime.ideam.gov.co/server/rest/services/AtencionCiudadano/DescargarArchivo/GPServer/DescargarArchivo/submitJob?f=json&Filtro=sort%3D%26filter%3D((IdParametro~eq~%27HUM+RELATIVA%27~and~Etiqueta~eq~%27HR_CAL_MX_D%27~and~IdEstacion~eq~%2726205080%27)~or~(IdParametro~eq~%27HUM+RELATIVA%27~and~Etiqueta~eq~%27HR_CAL_MX_D%27~and~IdEstacion~eq~%2727015330%27)~or~(IdParametro~eq~%27HUM+RELATIVA%27~and~Etiqueta~eq~%27HR_CAL_MX_D%27~and~IdEstacion~eq~%2727010810%27))%26group%3D%26fechaInicio%3D2023-8-27T05%253A00%253A00.000Z%26fechaFin%3D2023-9-2T05%253A00%253A00.000Z%26mostrarGrado%3Dtrue%26mostrarCalificador%3Dtrue%26mostrarNivelAprobacion%3Dtrue&Items=%5B%7B%22IdParametro%22%3A%22HUM+RELATIVA%22%2C%22Etiqueta%22%3A%22HR_CAL_MX_D%22%2C%22EsEjeY1%22%3Afalse%2C%22EsEjeY2%22%3Afalse%2C%22EsTipoLinea%22%3Afalse%2C%22EsTipoBarra%22%3Afalse%2C%22TipoSerie%22%3A%22Estandard%22%2C%22Calculo%22%3A%22%22%7D%2C%7B%22IdParametro%22%3A%22HUM+RELATIVA%22%2C%22Etiqueta%22%3A%22HR_CAL_MX_D%22%2C%22EsEjeY1%22%3Afalse%2C%22EsEjeY2%22%3Afalse%2C%22EsTipoLinea%22%3Afalse%2C%22EsTipoBarra%22%3Afalse%2C%22TipoSerie%22%3A%22Estandard%22%2C%22Calculo%22%3A%22%22%7D%2C%7B%22IdParametro%22%3A%22HUM+RELATIVA%22%2C%22Etiqueta%22%3A%22HR_CAL_MX_D%22%2C%22EsEjeY1%22%3Afalse%2C%22EsEjeY2%22%3Afalse%2C%22EsTipoLinea%22%3Afalse%2C%22EsTipoBarra%22%3Afalse%2C%22TipoSerie%22%3A%22Estandard%22%2C%22Calculo%22%3A%22%22%7D%5D\n",
      "Job ID: j8c1b42b4d6394e0faae0e0332c197dd8\n",
      "Job Status: esriJobSubmitted\n",
      "Job status: esriJobSucceeded\n",
      "http://dhime.ideam.gov.co/server/rest/services/AtencionCiudadano/DescargarArchivo/GPServer/DescargarArchivo/jobs/j8c1b42b4d6394e0faae0e0332c197dd8/results/Archivo?f=json&returnType=data&dojo.preventCache=1693682835\n",
      "No data available\n",
      "Retrieving information for field PRECIPITACION from 27-8-2023 to 2-9-2023...\n",
      "http://dhime.ideam.gov.co/server/rest/services/AtencionCiudadano/DescargarArchivo/GPServer/DescargarArchivo/submitJob?f=json&Filtro=sort%3D%26filter%3D((IdParametro~eq~%27PRECIPITACION%27~and~Etiqueta~eq~%27PT_10_TT_D%27~and~IdEstacion~eq~%2726205080%27)~or~(IdParametro~eq~%27PRECIPITACION%27~and~Etiqueta~eq~%27PT_10_TT_D%27~and~IdEstacion~eq~%2727015330%27)~or~(IdParametro~eq~%27PRECIPITACION%27~and~Etiqueta~eq~%27PT_10_TT_D%27~and~IdEstacion~eq~%2727010810%27))%26group%3D%26fechaInicio%3D2023-8-27T05%253A00%253A00.000Z%26fechaFin%3D2023-9-2T05%253A00%253A00.000Z%26mostrarGrado%3Dtrue%26mostrarCalificador%3Dtrue%26mostrarNivelAprobacion%3Dtrue&Items=%5B%7B%22IdParametro%22%3A%22PRECIPITACION%22%2C%22Etiqueta%22%3A%22PT_10_TT_D%22%2C%22EsEjeY1%22%3Afalse%2C%22EsEjeY2%22%3Afalse%2C%22EsTipoLinea%22%3Afalse%2C%22EsTipoBarra%22%3Afalse%2C%22TipoSerie%22%3A%22Estandard%22%2C%22Calculo%22%3A%22%22%7D%2C%7B%22IdParametro%22%3A%22PRECIPITACION%22%2C%22Etiqueta%22%3A%22PT_10_TT_D%22%2C%22EsEjeY1%22%3Afalse%2C%22EsEjeY2%22%3Afalse%2C%22EsTipoLinea%22%3Afalse%2C%22EsTipoBarra%22%3Afalse%2C%22TipoSerie%22%3A%22Estandard%22%2C%22Calculo%22%3A%22%22%7D%2C%7B%22IdParametro%22%3A%22PRECIPITACION%22%2C%22Etiqueta%22%3A%22PT_10_TT_D%22%2C%22EsEjeY1%22%3Afalse%2C%22EsEjeY2%22%3Afalse%2C%22EsTipoLinea%22%3Afalse%2C%22EsTipoBarra%22%3Afalse%2C%22TipoSerie%22%3A%22Estandard%22%2C%22Calculo%22%3A%22%22%7D%5D\n",
      "Job ID: ja40cc1798fef4d119ffe8544b7498469\n",
      "Job Status: esriJobSubmitted\n",
      "Job status: esriJobSucceeded\n",
      "http://dhime.ideam.gov.co/server/rest/services/AtencionCiudadano/DescargarArchivo/GPServer/DescargarArchivo/jobs/ja40cc1798fef4d119ffe8544b7498469/results/Archivo?f=json&returnType=data&dojo.preventCache=1693682850\n",
      "No data available\n"
     ]
    }
   ],
   "source": [
    "fields_and_labels = [\n",
    "    (\"TEMPERATURA\", \"TMX_CON\", \"27-08-2023\"),\n",
    "    (\"TEMPERATURA\", \"TMN_CON\", \"27-08-2023\"),\n",
    "    (\"HUM+RELATIVA\", \"HR_CAL_MN_D\", \"27-08-2023\"),\n",
    "    (\"HUM+RELATIVA\", \"HR_CAL_MX_D\", \"27-08-2023\"),\n",
    "    (\"PRECIPITACION\", \"PT_10_TT_D\", \"27-08-2023\")\n",
    "]\n",
    "for fields in fields_and_labels:\n",
    "    extract_and_upload_file(fields[0], fields[1], fields[2])"
   ]
  }
 ],
 "metadata": {
  "kernelspec": {
   "display_name": "Trabajo1_Almdatos-AQFNpnVz",
   "language": "python",
   "name": "python3"
  },
  "language_info": {
   "codemirror_mode": {
    "name": "ipython",
    "version": 3
   },
   "file_extension": ".py",
   "mimetype": "text/x-python",
   "name": "python",
   "nbconvert_exporter": "python",
   "pygments_lexer": "ipython3",
   "version": "3.11.4"
  },
  "orig_nbformat": 4
 },
 "nbformat": 4,
 "nbformat_minor": 2
}
