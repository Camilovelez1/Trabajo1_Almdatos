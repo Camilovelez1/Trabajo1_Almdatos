{
 "cells": [
  {
   "cell_type": "code",
   "execution_count": 6,
   "metadata": {},
   "outputs": [],
   "source": [
    "import requests\n",
    "import datetime as dt\n",
    "import base64\n",
    "import time as tm\n",
    "from zipfile import ZipFile\n",
    "import logging\n",
    "import boto3\n",
    "from botocore.exceptions import ClientError\n",
    "import os\n",
    "from dotenv import load_dotenv, find_dotenv"
   ]
  },
  {
   "cell_type": "code",
   "execution_count": 7,
   "metadata": {},
   "outputs": [
    {
     "name": "stdout",
     "output_type": "stream",
     "text": [
      "/home/david/eafit/Trabajo1_Almdatos/.env\n"
     ]
    },
    {
     "data": {
      "text/plain": [
       "True"
      ]
     },
     "execution_count": 7,
     "metadata": {},
     "output_type": "execute_result"
    }
   ],
   "source": [
    "env_file = find_dotenv()\n",
    "print(env_file)\n",
    "load_dotenv(find_dotenv())"
   ]
  },
  {
   "cell_type": "code",
   "execution_count": 8,
   "metadata": {},
   "outputs": [],
   "source": [
    "def upload_file_to_s3(file_name, bucket, object_name = None):\n",
    "    # If S3 object_name was not specified, use file_name\n",
    "    if object_name is None:\n",
    "        object_name = os.path.basename(file_name)\n",
    "\n",
    "    # Upload the file\n",
    "    s3_client = boto3.client('s3')\n",
    "    try:\n",
    "        s3_client.upload_file(file_name, bucket, object_name, ExtraArgs={'ACL':'bucket-owner-full-control'})\n",
    "    except ClientError as e:\n",
    "        logging.error(e)\n",
    "        return False\n",
    "    return True"
   ]
  },
  {
   "cell_type": "code",
   "execution_count": 9,
   "metadata": {},
   "outputs": [],
   "source": [
    "def extract_file(file_name, output_path):\n",
    "    with ZipFile(file_name, \"r\") as zipFile:\n",
    "        zipFile.extract(\n",
    "            \"excel.csv.csv\", output_path)\n",
    "    zipFile.close()"
   ]
  },
  {
   "cell_type": "code",
   "execution_count": 10,
   "metadata": {},
   "outputs": [],
   "source": [
    "def submit_job(field = \"TEMPERATURA\", label = \"TMX_CON\"):\n",
    "    submit_job_url = \"http://dhime.ideam.gov.co/server/rest/services/AtencionCiudadano/DescargarArchivo/GPServer/DescargarArchivo/submitJob\"\n",
    "\n",
    "    headers = {\n",
    "        \"Accept\": \"*/*\",\n",
    "        \"Accept-Language\": \"en-US,en;q=0.9\",\n",
    "        \"Content-Type\": \"application/x-www-form-urlencoded\",\n",
    "        \"Origin\": \"http://dhime.ideam.gov.co\",\n",
    "        \"Referer\": \"http://dhime.ideam.gov.co/atencionciudadano/\",\n",
    "        \"Sec-GPC\": \"1\",\n",
    "    }\n",
    "\n",
    "    current_datetime = dt.datetime.now()\n",
    "    previous_date = current_datetime - dt.timedelta(days=1)\n",
    "    day = previous_date.day\n",
    "    month = previous_date.month\n",
    "    year = previous_date.year\n",
    "    data = f\"f=json&Filtro=sort%3D%26filter%3D((IdParametro~eq~%27{field}%27~and~Etiqueta~eq~%27{label}%27~and~IdEstacion~eq~%2726205080%27)~or~(IdParametro~eq~%27{field}%27~and~Etiqueta~eq~%27{label}%27~and~IdEstacion~eq~%2727015330%27)~or~(IdParametro~eq~%27{field}%27~and~Etiqueta~eq~%27{label}%27~and~IdEstacion~eq~%2727010810%27))%26group%3D%26fechaInicio%3D{year}-{month}-{day}T05%253A00%253A00.000Z%26fechaFin%3D{year}-{month}-{day}T05%253A00%253A00.000Z%26mostrarGrado%3Dtrue%26mostrarCalificador%3Dtrue%26mostrarNivelAprobacion%3Dtrue&Items=%5B%7B%22IdParametro%22%3A%22{field}%22%2C%22Etiqueta%22%3A%22{label}%22%2C%22EsEjeY1%22%3Afalse%2C%22EsEjeY2%22%3Afalse%2C%22EsTipoLinea%22%3Afalse%2C%22EsTipoBarra%22%3Afalse%2C%22TipoSerie%22%3A%22Estandard%22%2C%22Calculo%22%3A%22%22%7D%2C%7B%22IdParametro%22%3A%22{field}%22%2C%22Etiqueta%22%3A%22{label}%22%2C%22EsEjeY1%22%3Afalse%2C%22EsEjeY2%22%3Afalse%2C%22EsTipoLinea%22%3Afalse%2C%22EsTipoBarra%22%3Afalse%2C%22TipoSerie%22%3A%22Estandard%22%2C%22Calculo%22%3A%22%22%7D%2C%7B%22IdParametro%22%3A%22{field}%22%2C%22Etiqueta%22%3A%22{label}%22%2C%22EsEjeY1%22%3Afalse%2C%22EsEjeY2%22%3Afalse%2C%22EsTipoLinea%22%3Afalse%2C%22EsTipoBarra%22%3Afalse%2C%22TipoSerie%22%3A%22Estandard%22%2C%22Calculo%22%3A%22%22%7D%5D\"\n",
    "\n",
    "\n",
    "    response = requests.post(\n",
    "        f\"{submit_job_url}?{data}\",\n",
    "        headers=headers,\n",
    "        verify=False,\n",
    "    )\n",
    "    response_json = response.json()\n",
    "    job_id = response_json[\"jobId\"]\n",
    "    job_status = response_json[\"jobStatus\"]\n",
    "\n",
    "    print(f\"Job ID: {job_id}\")\n",
    "    print(f\"Job Status: {job_status}\")\n",
    "    return job_id"
   ]
  },
  {
   "cell_type": "code",
   "execution_count": 11,
   "metadata": {},
   "outputs": [],
   "source": [
    "def verify_status_job(job_id):\n",
    "    headers = {\n",
    "        'Accept': '*/*',\n",
    "        'Accept-Language': 'en-US,en;q=0.9',\n",
    "        'Content-Type': 'application/x-www-form-urlencoded',\n",
    "        'Referer': 'http://dhime.ideam.gov.co/atencionciudadano/',\n",
    "        'Sec-GPC': '1',\n",
    "    }\n",
    "\n",
    "    timestamp = int(tm.time())\n",
    "\n",
    "    response_get_status = requests.get(\n",
    "        f\"http://dhime.ideam.gov.co/server/rest/services/AtencionCiudadano/DescargarArchivo/GPServer/DescargarArchivo/jobs/{job_id}?f=json&dojo.preventCache={timestamp}\",\n",
    "        headers=headers,\n",
    "        verify=False,\n",
    "    )\n",
    "\n",
    "    response_get_status_json = response_get_status.json()\n",
    "    print(f\"Job status: {response_get_status_json['jobStatus']}\")"
   ]
  },
  {
   "cell_type": "code",
   "execution_count": 12,
   "metadata": {},
   "outputs": [],
   "source": [
    "def download_file_from_api(job_id, zip_file_name = \"datos.zip\"):\n",
    "    headers = {\n",
    "        \"Accept\": \"*/*\",\n",
    "        \"Accept-Language\": \"en-US,en;q=0.9\",\n",
    "        \"Content-Type\": \"application/x-www-form-urlencoded\",\n",
    "        \"Referer\": \"http://dhime.ideam.gov.co/atencionciudadano/\",\n",
    "        \"Sec-GPC\": \"1\",\n",
    "    }\n",
    "\n",
    "    params = {\n",
    "        \"f\": \"json\",\n",
    "        \"returnType\": \"data\",\n",
    "    }\n",
    "\n",
    "    response_get_file = requests.get(\n",
    "        f\"http://dhime.ideam.gov.co/server/rest/services/AtencionCiudadano/DescargarArchivo/GPServer/DescargarArchivo/jobs/{job_id}/results/Archivo\",\n",
    "        params=params,\n",
    "        headers=headers,\n",
    "        verify=False,\n",
    "    )\n",
    "\n",
    "    response_json_get_file = response_get_file.json()\n",
    "    file_content = response_json_get_file[\"value\"]\n",
    "\n",
    "    try:\n",
    "        decoded_file_content = base64.b64decode(file_content)\n",
    "        with open(zip_file_name, \"wb\") as f:\n",
    "            f.write(decoded_file_content)\n",
    "    except Exception as e:\n",
    "        print(str(e))"
   ]
  },
  {
   "cell_type": "code",
   "execution_count": 14,
   "metadata": {},
   "outputs": [
    {
     "name": "stdout",
     "output_type": "stream",
     "text": [
      "Job ID: j7cec8f0266e84645a894943e5b8b1ffc\n",
      "Job Status: esriJobSubmitted\n"
     ]
    }
   ],
   "source": [
    "job_id = submit_job(field = \"TEMPERATURA\", label = \"TMX_CON\")"
   ]
  },
  {
   "cell_type": "code",
   "execution_count": 15,
   "metadata": {},
   "outputs": [
    {
     "name": "stdout",
     "output_type": "stream",
     "text": [
      "Job status: esriJobSucceeded\n"
     ]
    }
   ],
   "source": [
    "verify_status_job(job_id)"
   ]
  },
  {
   "cell_type": "code",
   "execution_count": 16,
   "metadata": {},
   "outputs": [],
   "source": [
    "download_file_from_api(job_id, zip_file_name = \"datos.zip\")"
   ]
  },
  {
   "cell_type": "code",
   "execution_count": 17,
   "metadata": {},
   "outputs": [
    {
     "data": {
      "text/plain": [
       "True"
      ]
     },
     "execution_count": 17,
     "metadata": {},
     "output_type": "execute_result"
    }
   ],
   "source": [
    "s3_bucket_name = \"climaticchange-datalake\"\n",
    "zip_file_name = \"datos.zip\"\n",
    "output_path = \"datos\"\n",
    "s3_object_name = \"datos.csv\"\n",
    "download_file_from_api(zip_file_name)\n",
    "extract_file(zip_file_name, output_path)\n",
    "upload_file_to_s3(f\"{output_path}/excel.csv.csv\", s3_bucket_name, s3_object_name)"
   ]
  }
 ],
 "metadata": {
  "kernelspec": {
   "display_name": "Trabajo1_Almdatos-AQFNpnVz",
   "language": "python",
   "name": "python3"
  },
  "language_info": {
   "codemirror_mode": {
    "name": "ipython",
    "version": 3
   },
   "file_extension": ".py",
   "mimetype": "text/x-python",
   "name": "python",
   "nbconvert_exporter": "python",
   "pygments_lexer": "ipython3",
   "version": "3.11.4"
  },
  "orig_nbformat": 4
 },
 "nbformat": 4,
 "nbformat_minor": 2
}
