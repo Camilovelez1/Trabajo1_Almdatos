{
 "cells": [
  {
   "cell_type": "code",
   "execution_count": 49,
   "metadata": {},
   "outputs": [
    {
     "name": "stdout",
     "output_type": "stream",
     "text": [
      "Job ID: j2e8c37554f674cfc8e5baf7d6b837805\n",
      "Job Status: esriJobSubmitted\n"
     ]
    }
   ],
   "source": [
    "import requests\n",
    "import datetime as dt\n",
    "import base64\n",
    "import time as tm\n",
    "\n",
    "submit_job_url = \"http://dhime.ideam.gov.co/server/rest/services/AtencionCiudadano/DescargarArchivo/GPServer/DescargarArchivo/submitJob\"\n",
    "\n",
    "headers = {\n",
    "    \"Accept\": \"*/*\",\n",
    "    \"Accept-Language\": \"en-US,en;q=0.9\",\n",
    "    \"Content-Type\": \"application/x-www-form-urlencoded\",\n",
    "    \"Origin\": \"http://dhime.ideam.gov.co\",\n",
    "    \"Referer\": \"http://dhime.ideam.gov.co/atencionciudadano/\",\n",
    "    \"Sec-GPC\": \"1\",\n",
    "}\n",
    "\n",
    "current_datetime = dt.datetime.now()\n",
    "previous_date = current_datetime - dt.timedelta(days=1)\n",
    "\n",
    "field = \"TEMPERATURA\"\n",
    "label = \"TMX_CON\"\n",
    "day = previous_date.day\n",
    "month = previous_date.month\n",
    "year = previous_date.year\n",
    "data = f\"f=json&Filtro=sort%3D%26filter%3D((IdParametro~eq~%27{field}%27~and~Etiqueta~eq~%27{label}%27~and~IdEstacion~eq~%2726205080%27)~or~(IdParametro~eq~%27{field}%27~and~Etiqueta~eq~%27{label}%27~and~IdEstacion~eq~%2727015330%27)~or~(IdParametro~eq~%27{field}%27~and~Etiqueta~eq~%27{label}%27~and~IdEstacion~eq~%2727010810%27))%26group%3D%26fechaInicio%3D{year}-{month}-{day}T05%253A00%253A00.000Z%26fechaFin%3D{year}-{month}-{day}T05%253A00%253A00.000Z%26mostrarGrado%3Dtrue%26mostrarCalificador%3Dtrue%26mostrarNivelAprobacion%3Dtrue&Items=%5B%7B%22IdParametro%22%3A%22{field}%22%2C%22Etiqueta%22%3A%22{label}%22%2C%22EsEjeY1%22%3Afalse%2C%22EsEjeY2%22%3Afalse%2C%22EsTipoLinea%22%3Afalse%2C%22EsTipoBarra%22%3Afalse%2C%22TipoSerie%22%3A%22Estandard%22%2C%22Calculo%22%3A%22%22%7D%2C%7B%22IdParametro%22%3A%22{field}%22%2C%22Etiqueta%22%3A%22{label}%22%2C%22EsEjeY1%22%3Afalse%2C%22EsEjeY2%22%3Afalse%2C%22EsTipoLinea%22%3Afalse%2C%22EsTipoBarra%22%3Afalse%2C%22TipoSerie%22%3A%22Estandard%22%2C%22Calculo%22%3A%22%22%7D%2C%7B%22IdParametro%22%3A%22{field}%22%2C%22Etiqueta%22%3A%22{label}%22%2C%22EsEjeY1%22%3Afalse%2C%22EsEjeY2%22%3Afalse%2C%22EsTipoLinea%22%3Afalse%2C%22EsTipoBarra%22%3Afalse%2C%22TipoSerie%22%3A%22Estandard%22%2C%22Calculo%22%3A%22%22%7D%5D\"\n",
    "\n",
    "\n",
    "response = requests.post(\n",
    "    f\"{submit_job_url}?{data}\",\n",
    "    headers=headers,\n",
    "    verify=False,\n",
    ")\n",
    "response_json = response.json()\n",
    "job_id = response_json[\"jobId\"]\n",
    "job_status = response_json[\"jobStatus\"]\n",
    "\n",
    "print(f\"Job ID: {job_id}\")\n",
    "print(f\"Job Status: {job_status}\")"
   ]
  },
  {
   "cell_type": "code",
   "execution_count": 55,
   "metadata": {},
   "outputs": [
    {
     "name": "stdout",
     "output_type": "stream",
     "text": [
      "Job status: esriJobSucceeded\n"
     ]
    }
   ],
   "source": [
    "headers = {\n",
    "    'Accept': '*/*',\n",
    "    'Accept-Language': 'en-US,en;q=0.9',\n",
    "    'Content-Type': 'application/x-www-form-urlencoded',\n",
    "    'Referer': 'http://dhime.ideam.gov.co/atencionciudadano/',\n",
    "    'Sec-GPC': '1',\n",
    "}\n",
    "\n",
    "timestamp = int(tm.time())\n",
    "\n",
    "response_get_status = requests.get(\n",
    "    f\"http://dhime.ideam.gov.co/server/rest/services/AtencionCiudadano/DescargarArchivo/GPServer/DescargarArchivo/jobs/{job_id}?f=json&dojo.preventCache={timestamp}\",\n",
    "    headers=headers,\n",
    "    verify=False,\n",
    ")\n",
    "\n",
    "response_get_status_json = response_get_status.json()\n",
    "print(f\"Job status: {response_get_status_json['jobStatus']}\")"
   ]
  },
  {
   "cell_type": "code",
   "execution_count": 56,
   "metadata": {},
   "outputs": [],
   "source": [
    "headers = {\n",
    "    \"Accept\": \"*/*\",\n",
    "    \"Accept-Language\": \"en-US,en;q=0.9\",\n",
    "    \"Content-Type\": \"application/x-www-form-urlencoded\",\n",
    "    \"Referer\": \"http://dhime.ideam.gov.co/atencionciudadano/\",\n",
    "    \"Sec-GPC\": \"1\",\n",
    "}\n",
    "\n",
    "params = {\n",
    "    \"f\": \"json\",\n",
    "    \"returnType\": \"data\",\n",
    "}\n",
    "\n",
    "response_get_file = requests.get(\n",
    "    f\"http://dhime.ideam.gov.co/server/rest/services/AtencionCiudadano/DescargarArchivo/GPServer/DescargarArchivo/jobs/{job_id}/results/Archivo\",\n",
    "    params=params,\n",
    "    headers=headers,\n",
    "    verify=False,\n",
    ")\n",
    "\n",
    "response_json_get_file = response_get_file.json()\n",
    "file_content = response_json_get_file[\"value\"]\n",
    "\n",
    "try:\n",
    "    decoded_file_content = base64.b64decode(file_content)\n",
    "    with open(\"datos.zip\", \"wb\") as f:\n",
    "        f.write(decoded_file_content)\n",
    "except Exception as e:\n",
    "    print(str(e))"
   ]
  },
  {
   "cell_type": "code",
   "execution_count": null,
   "metadata": {},
   "outputs": [],
   "source": []
  }
 ],
 "metadata": {
  "kernelspec": {
   "display_name": "Trabajo1_Almdatos-AQFNpnVz",
   "language": "python",
   "name": "python3"
  },
  "language_info": {
   "codemirror_mode": {
    "name": "ipython",
    "version": 3
   },
   "file_extension": ".py",
   "mimetype": "text/x-python",
   "name": "python",
   "nbconvert_exporter": "python",
   "pygments_lexer": "ipython3",
   "version": "3.11.4"
  },
  "orig_nbformat": 4
 },
 "nbformat": 4,
 "nbformat_minor": 2
}
