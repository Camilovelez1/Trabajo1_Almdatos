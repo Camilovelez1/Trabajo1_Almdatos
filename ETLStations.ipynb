{
 "cells": [
  {
   "cell_type": "code",
   "execution_count": 17,
   "id": "bb998289",
   "metadata": {},
   "outputs": [
    {
     "data": {
      "application/vnd.jupyter.widget-view+json": {
       "model_id": "c63f07290bdb40df94ab53388d88c89f",
       "version_major": 2,
       "version_minor": 0
      },
      "text/plain": [
       "FloatProgress(value=0.0, bar_style='info', description='Progress:', layout=Layout(height='25px', width='50%'),…"
      ]
     },
     "metadata": {},
     "output_type": "display_data"
    },
    {
     "name": "stdout",
     "output_type": "stream",
     "text": [
      "Row(objectid=None, codigo=None, nombre='nombre', categoria='CATEGORIA', tecnologia='TECNOLOGIA', estado='ESTADO', fecha_instalacion='FECHA_INSTALACION', altitud=None, latitud='latitud', longitud='longitud', departamento='DEPARTAMENTO', municipio='MUNICIPIO', area_operativa='AREA_OPERATIVA', area_hidrografica='AREA_HIDROGRAFICA', zona_hidrografica='ZONA_HIDROGRAFICA', observacion='observacion', corriente='CORRIENTE', fecha_suspension='FECHA_SUSPENSION', subzona_hidrografica='SUBZONA_HIDROGRAFICA', entidad='ENTIDAD', subred='subred')"
     ]
    }
   ],
   "source": [
    "df_stations = spark.table(\"climaticchange.ideamstations_catalog\")\n",
    "\n",
    "# Show the content of the DataFrame\n",
    "df_stations.head()"
   ]
  },
  {
   "cell_type": "code",
   "execution_count": 13,
   "id": "4744c860",
   "metadata": {},
   "outputs": [
    {
     "data": {
      "application/vnd.jupyter.widget-view+json": {
       "model_id": "ba64018e014b47a29d32836317bff1b7",
       "version_major": 2,
       "version_minor": 0
      },
      "text/plain": [
       "FloatProgress(value=0.0, bar_style='info', description='Progress:', layout=Layout(height='25px', width='50%'),…"
      ]
     },
     "metadata": {},
     "output_type": "display_data"
    },
    {
     "name": "stdout",
     "output_type": "stream",
     "text": [
      "<class 'pyspark.sql.dataframe.DataFrame'>"
     ]
    }
   ],
   "source": [
    "type(dataframe)"
   ]
  },
  {
   "cell_type": "code",
   "execution_count": 20,
   "id": "b30319a1",
   "metadata": {},
   "outputs": [
    {
     "data": {
      "application/vnd.jupyter.widget-view+json": {
       "model_id": "b2602e289684417889b11a764152acf8",
       "version_major": 2,
       "version_minor": 0
      },
      "text/plain": [
       "FloatProgress(value=0.0, bar_style='info', description='Progress:', layout=Layout(height='25px', width='50%'),…"
      ]
     },
     "metadata": {},
     "output_type": "display_data"
    },
    {
     "name": "stdout",
     "output_type": "stream",
     "text": [
      "+--------+--------+--------------------+-------------------+--------------------+----------------+-----------------+-------+-----------+------------+------------+-------------------+--------------------+-----------------+-----------------+--------------------+---------+----------------+--------------------+--------------------+--------------------+\n",
      "|objectid|  codigo|              nombre|          categoria|          tecnologia|          estado|fecha_instalacion|altitud|    latitud|    longitud|departamento|          municipio|      area_operativa|area_hidrografica|zona_hidrografica|         observacion|corriente|fecha_suspension|subzona_hidrografica|             entidad|              subred|\n",
      "+--------+--------+--------------------+-------------------+--------------------+----------------+-----------------+-------+-----------+------------+------------+-------------------+--------------------+-----------------+-----------------+--------------------+---------+----------------+--------------------+--------------------+--------------------+\n",
      "|    null|    null|              nombre|          CATEGORIA|          TECNOLOGIA|          ESTADO|FECHA_INSTALACION|   null|    latitud|    longitud|DEPARTAMENTO|          MUNICIPIO|      AREA_OPERATIVA|AREA_HIDROGRAFICA|ZONA_HIDROGRAFICA|         observacion|CORRIENTE|FECHA_SUSPENSION|SUBZONA_HIDROGRAFICA|             ENTIDAD|              subred|\n",
      "|       1|44135030|CHIRIBIQUETE - AU...|Clim�tica Principal|Autom�tica con Te...|      Suspendida|       2006-02-04|    256|-0,07416667|-72,45138889|     Caquet�|             Solano|Area Operativa 04...|         Amazonas|             Yar�|                    | Amazonas|      2011-07-29|           R�o Mesay|INSTITUTO DE HIDR...|                    |\n",
      "|       2|52055150|CERRO PARAMO  - A...|Clim�tica Principal|Autom�tica con Te...|En Mantenimiento|       2005-12-09|   3585| 0,84311111|-77,38880556|      Nari�o|            Puerres|Area Operativa 07...|         Pacifico|            Pat�a|Cambio de tecnolo...|        0|                |        R�o Gu�itara|INSTITUTO DE HIDR...|Radiaci�n Ultravi...|\n",
      "|       3|52055220|EL PARAISO - AUT ...|Clim�tica Principal|             TEST005|En Mantenimiento|       2004-03-01|   3120| 1,07061111|-77,63688889|      Nari�o|          T�querres|Area Operativa 07...|         Pacifico|            Pat�a|                    |        0|                |        R�o Gu�itara|INSTITUTO DE HIDR...|Altiplano Nari�en...|\n",
      "|       4|44037040|EL ROSARIO - AUT ...|       Limnigr�fica|             TEST005|En Mantenimiento|       1964-08-15|    600|    1,72525|-75,66638889|     Caquet�|Florencia (Caquet�)|Area Operativa 04...|         Amazonas|          Caquet�|Actualizada Tecno...|   Cara�O|                |       R�o Orteguaza|INSTITUTO DE HIDR...|                    |\n",
      "+--------+--------+--------------------+-------------------+--------------------+----------------+-----------------+-------+-----------+------------+------------+-------------------+--------------------+-----------------+-----------------+--------------------+---------+----------------+--------------------+--------------------+--------------------+\n",
      "only showing top 5 rows"
     ]
    }
   ],
   "source": [
    "%spark\n",
    "df_stations=spark.sql(\"SELECT * FROM climaticchange.ideamstations_catalog\")\n",
    "df_stations.show(5)"
   ]
  },
  {
   "cell_type": "code",
   "execution_count": 21,
   "id": "378d7f0d",
   "metadata": {},
   "outputs": [
    {
     "data": {
      "application/vnd.jupyter.widget-view+json": {
       "model_id": "1d47839301d04b04896dd5764bbaafd8",
       "version_major": 2,
       "version_minor": 0
      },
      "text/plain": [
       "FloatProgress(value=0.0, bar_style='info', description='Progress:', layout=Layout(height='25px', width='50%'),…"
      ]
     },
     "metadata": {},
     "output_type": "display_data"
    },
    {
     "name": "stdout",
     "output_type": "stream",
     "text": [
      "root\n",
      " |-- objectid: long (nullable = true)\n",
      " |-- codigo: long (nullable = true)\n",
      " |-- nombre: string (nullable = true)\n",
      " |-- categoria: string (nullable = true)\n",
      " |-- tecnologia: string (nullable = true)\n",
      " |-- estado: string (nullable = true)\n",
      " |-- fecha_instalacion: string (nullable = true)\n",
      " |-- altitud: long (nullable = true)\n",
      " |-- latitud: string (nullable = true)\n",
      " |-- longitud: string (nullable = true)\n",
      " |-- departamento: string (nullable = true)\n",
      " |-- municipio: string (nullable = true)\n",
      " |-- area_operativa: string (nullable = true)\n",
      " |-- area_hidrografica: string (nullable = true)\n",
      " |-- zona_hidrografica: string (nullable = true)\n",
      " |-- observacion: string (nullable = true)\n",
      " |-- corriente: string (nullable = true)\n",
      " |-- fecha_suspension: string (nullable = true)\n",
      " |-- subzona_hidrografica: string (nullable = true)\n",
      " |-- entidad: string (nullable = true)\n",
      " |-- subred: string (nullable = true)"
     ]
    }
   ],
   "source": [
    "#printSchema\n",
    "df_stations.printSchema()"
   ]
  },
  {
   "cell_type": "code",
   "execution_count": 32,
   "id": "4c0e4d36",
   "metadata": {},
   "outputs": [
    {
     "data": {
      "application/vnd.jupyter.widget-view+json": {
       "model_id": "7882777585754428a1d99ff46774b4b1",
       "version_major": 2,
       "version_minor": 0
      },
      "text/plain": [
       "FloatProgress(value=0.0, bar_style='info', description='Progress:', layout=Layout(height='25px', width='50%'),…"
      ]
     },
     "metadata": {},
     "output_type": "display_data"
    },
    {
     "name": "stdout",
     "output_type": "stream",
     "text": [
      "['objectid', 'codigo', 'nombre', 'categoria', 'tecnologia', 'estado', 'fecha_instalacion', 'altitud', 'latitud', 'longitud', 'departamento', 'municipio', 'area_operativa', 'area_hidrografica', 'zona_hidrografica', 'observacion', 'corriente', 'fecha_suspension', 'subzona_hidrografica', 'entidad', 'subred']"
     ]
    }
   ],
   "source": [
    "df_stations.columns"
   ]
  },
  {
   "cell_type": "code",
   "execution_count": 23,
   "id": "fe3a72b1",
   "metadata": {},
   "outputs": [
    {
     "data": {
      "application/vnd.jupyter.widget-view+json": {
       "model_id": "1d4bf3ad73874d3fb45ba27de2982ea7",
       "version_major": 2,
       "version_minor": 0
      },
      "text/plain": [
       "FloatProgress(value=0.0, bar_style='info', description='Progress:', layout=Layout(height='25px', width='50%'),…"
      ]
     },
     "metadata": {},
     "output_type": "display_data"
    },
    {
     "name": "stdout",
     "output_type": "stream",
     "text": [
      "+--------+-------------------+\n",
      "|  codigo|          municipio|\n",
      "+--------+-------------------+\n",
      "|    null|          MUNICIPIO|\n",
      "|44135030|             Solano|\n",
      "|52055150|            Puerres|\n",
      "|52055220|          T�querres|\n",
      "|44037040|Florencia (Caquet�)|\n",
      "+--------+-------------------+\n",
      "only showing top 5 rows"
     ]
    }
   ],
   "source": [
    "#select only 2 columns\n",
    "df_stations.select('codigo','municipio').show(5)"
   ]
  },
  {
   "cell_type": "code",
   "execution_count": 30,
   "id": "c8bb4139",
   "metadata": {},
   "outputs": [
    {
     "data": {
      "application/vnd.jupyter.widget-view+json": {
       "model_id": "aac4156e7b764acb939a4dd85a449856",
       "version_major": 2,
       "version_minor": 0
      },
      "text/plain": [
       "FloatProgress(value=0.0, bar_style='info', description='Progress:', layout=Layout(height='25px', width='50%'),…"
      ]
     },
     "metadata": {},
     "output_type": "display_data"
    },
    {
     "name": "stdout",
     "output_type": "stream",
     "text": [
      "9236"
     ]
    }
   ],
   "source": [
    "df_stations.count()"
   ]
  },
  {
   "cell_type": "code",
   "execution_count": 31,
   "id": "589e39e8",
   "metadata": {},
   "outputs": [
    {
     "data": {
      "application/vnd.jupyter.widget-view+json": {
       "model_id": "e1aaf18417884f4cb694091d1bf9b5b0",
       "version_major": 2,
       "version_minor": 0
      },
      "text/plain": [
       "FloatProgress(value=0.0, bar_style='info', description='Progress:', layout=Layout(height='25px', width='50%'),…"
      ]
     },
     "metadata": {},
     "output_type": "display_data"
    },
    {
     "name": "stdout",
     "output_type": "stream",
     "text": [
      "+------+---------+\n",
      "|codigo|municipio|\n",
      "+------+---------+\n",
      "|  null|MUNICIPIO|\n",
      "|  null|     null|\n",
      "|  null|     null|\n",
      "|  null|     null|\n",
      "|  null|     null|\n",
      "+------+---------+\n",
      "only showing top 5 rows"
     ]
    }
   ],
   "source": [
    "df_stations.filter(df_stations['codigo'].isNull()).select('codigo','municipio').show(5)"
   ]
  },
  {
   "cell_type": "code",
   "execution_count": 34,
   "id": "47803191",
   "metadata": {},
   "outputs": [
    {
     "data": {
      "application/vnd.jupyter.widget-view+json": {
       "model_id": "3589cfc2c2cd414eb9d86c8a716a4ced",
       "version_major": 2,
       "version_minor": 0
      },
      "text/plain": [
       "FloatProgress(value=0.0, bar_style='info', description='Progress:', layout=Layout(height='25px', width='50%'),…"
      ]
     },
     "metadata": {},
     "output_type": "display_data"
    },
    {
     "name": "stdout",
     "output_type": "stream",
     "text": [
      "+--------+--------+--------------------+-------------------+--------------------+----------------+-----------------+-------+-----------+------------+------------+-------------------+--------------------+-----------------+-----------------+--------------------+---------+----------------+--------------------+--------------------+\n",
      "|objectid|  codigo|              nombre|          categoria|          tecnologia|          estado|fecha_instalacion|altitud|    latitud|    longitud|departamento|          municipio|      area_operativa|area_hidrografica|zona_hidrografica|         observacion|corriente|fecha_suspension|subzona_hidrografica|             entidad|\n",
      "+--------+--------+--------------------+-------------------+--------------------+----------------+-----------------+-------+-----------+------------+------------+-------------------+--------------------+-----------------+-----------------+--------------------+---------+----------------+--------------------+--------------------+\n",
      "|       1|44135030|CHIRIBIQUETE - AU...|Clim�tica Principal|Autom�tica con Te...|      Suspendida|       2006-02-04|    256|-0,07416667|-72,45138889|     Caquet�|             Solano|Area Operativa 04...|         Amazonas|             Yar�|                    | Amazonas|      2011-07-29|           R�o Mesay|INSTITUTO DE HIDR...|\n",
      "|       2|52055150|CERRO PARAMO  - A...|Clim�tica Principal|Autom�tica con Te...|En Mantenimiento|       2005-12-09|   3585| 0,84311111|-77,38880556|      Nari�o|            Puerres|Area Operativa 07...|         Pacifico|            Pat�a|Cambio de tecnolo...|        0|                |        R�o Gu�itara|INSTITUTO DE HIDR...|\n",
      "|       3|52055220|EL PARAISO - AUT ...|Clim�tica Principal|             TEST005|En Mantenimiento|       2004-03-01|   3120| 1,07061111|-77,63688889|      Nari�o|          T�querres|Area Operativa 07...|         Pacifico|            Pat�a|                    |        0|                |        R�o Gu�itara|INSTITUTO DE HIDR...|\n",
      "|       4|44037040|EL ROSARIO - AUT ...|       Limnigr�fica|             TEST005|En Mantenimiento|       1964-08-15|    600|    1,72525|-75,66638889|     Caquet�|Florencia (Caquet�)|Area Operativa 04...|         Amazonas|          Caquet�|Actualizada Tecno...|   Cara�O|                |       R�o Orteguaza|INSTITUTO DE HIDR...|\n",
      "|       5|52077020|LOS NORTES - AUT ...|       Limnigr�fica|             TEST005|          Activa|       1984-09-15|    340| 1,74111111|-77,53111111|      Nari�o|          Cumbitara|Area Operativa 07...|         Pacifico|            Pat�a|                    |    Patia|                |     R�o Patia Medio|INSTITUTO DE HIDR...|\n",
      "+--------+--------+--------------------+-------------------+--------------------+----------------+-----------------+-------+-----------+------------+------------+-------------------+--------------------+-----------------+-----------------+--------------------+---------+----------------+--------------------+--------------------+\n",
      "only showing top 5 rows"
     ]
    }
   ],
   "source": [
    "df_stations_filtered=df_stations.drop('subred')\n",
    "df_stations_filtered=df_stations_filtered.filter(df_stations['codigo'].isNull()==False)\n",
    "df_stations_filtered.show(5)"
   ]
  },
  {
   "cell_type": "code",
   "execution_count": 35,
   "id": "90e5b75e",
   "metadata": {},
   "outputs": [
    {
     "data": {
      "application/vnd.jupyter.widget-view+json": {
       "model_id": "0a7e8f52dc7b4a969c8473c7779e9572",
       "version_major": 2,
       "version_minor": 0
      },
      "text/plain": [
       "FloatProgress(value=0.0, bar_style='info', description='Progress:', layout=Layout(height='25px', width='50%'),…"
      ]
     },
     "metadata": {},
     "output_type": "display_data"
    }
   ],
   "source": [
    "df_stations_filtered.write.format(\"csv\").option(\"header\",\"true\").mode(\"overwrite\").save('s3://climaticchange-datalake/datasets_ideam/trusted/aux_data/stations_catalog/')"
   ]
  }
 ],
 "metadata": {
  "kernelspec": {
   "display_name": "PySpark",
   "language": "python",
   "name": "pysparkkernel"
  },
  "language_info": {
   "codemirror_mode": {
    "name": "python",
    "version": 3
   },
   "file_extension": ".py",
   "mimetype": "text/x-python",
   "name": "pyspark",
   "pygments_lexer": "python3"
  }
 },
 "nbformat": 4,
 "nbformat_minor": 5
}
