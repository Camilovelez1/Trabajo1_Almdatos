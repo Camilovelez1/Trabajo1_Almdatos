{
 "cells": [
  {
   "cell_type": "markdown",
   "id": "5e6b9cbd",
   "metadata": {},
   "source": [
    "# Proceso ETL\n",
    "\n",
    "Este Notebook realiza los procesos de ETL para las diferentes Tablas raw de IDEAM."
   ]
  },
  {
   "cell_type": "markdown",
   "id": "8d633360",
   "metadata": {},
   "source": [
    "## 1. Tabla Estaciones"
   ]
  },
  {
   "cell_type": "code",
   "execution_count": 1,
   "id": "14c80f9a",
   "metadata": {},
   "outputs": [
    {
     "name": "stdout",
     "output_type": "stream",
     "text": [
      "Starting Spark application\n"
     ]
    },
    {
     "data": {
      "text/html": [
       "<table>\n",
       "<tr><th>ID</th><th>YARN Application ID</th><th>Kind</th><th>State</th><th>Spark UI</th><th>Driver log</th><th>User</th><th>Current session?</th></tr><tr><td>4</td><td>application_1693610929734_0005</td><td>pyspark</td><td>idle</td><td><a target=\"_blank\" href=\"http://ip-172-31-88-138.ec2.internal:20888/proxy/application_1693610929734_0005/\">Link</a></td><td><a target=\"_blank\" href=\"http://ip-172-31-82-249.ec2.internal:8042/node/containerlogs/container_1693610929734_0005_01_000001/livy\">Link</a></td><td>None</td><td>✔</td></tr></table>"
      ],
      "text/plain": [
       "<IPython.core.display.HTML object>"
      ]
     },
     "metadata": {},
     "output_type": "display_data"
    },
    {
     "data": {
      "application/vnd.jupyter.widget-view+json": {
       "model_id": "0a98356cf74b40cb8a0aa3dee4befe12",
       "version_major": 2,
       "version_minor": 0
      },
      "text/plain": [
       "FloatProgress(value=0.0, bar_style='info', description='Progress:', layout=Layout(height='25px', width='50%'),…"
      ]
     },
     "metadata": {},
     "output_type": "display_data"
    },
    {
     "name": "stdout",
     "output_type": "stream",
     "text": [
      "SparkSession available as 'spark'.\n"
     ]
    },
    {
     "data": {
      "application/vnd.jupyter.widget-view+json": {
       "model_id": "cf9ad2d735b340e6ad64113d4717aab8",
       "version_major": 2,
       "version_minor": 0
      },
      "text/plain": [
       "FloatProgress(value=0.0, bar_style='info', description='Progress:', layout=Layout(height='25px', width='50%'),…"
      ]
     },
     "metadata": {},
     "output_type": "display_data"
    },
    {
     "name": "stdout",
     "output_type": "stream",
     "text": [
      "root\n",
      " |-- objectid: long (nullable = true)\n",
      " |-- codigo: long (nullable = true)\n",
      " |-- nombre: string (nullable = true)\n",
      " |-- categoria: string (nullable = true)\n",
      " |-- tecnologia: string (nullable = true)\n",
      " |-- estado: string (nullable = true)\n",
      " |-- fecha_instalacion: string (nullable = true)\n",
      " |-- altitud: long (nullable = true)\n",
      " |-- latitud: string (nullable = true)\n",
      " |-- longitud: string (nullable = true)\n",
      " |-- departamento: string (nullable = true)\n",
      " |-- municipio: string (nullable = true)\n",
      " |-- area_operativa: string (nullable = true)\n",
      " |-- area_hidrografica: string (nullable = true)\n",
      " |-- zona_hidrografica: string (nullable = true)\n",
      " |-- observacion: string (nullable = true)\n",
      " |-- corriente: string (nullable = true)\n",
      " |-- fecha_suspension: string (nullable = true)\n",
      " |-- subzona_hidrografica: string (nullable = true)\n",
      " |-- entidad: string (nullable = true)\n",
      " |-- subred: string (nullable = true)\n",
      "\n",
      "9236\n",
      "+--------+--------+--------------------+-------------------+--------------------+----------+-----------------+-------+-----------+------------+------------+---------+--------------------+-----------------+-----------------+-----------+---------+----------------+--------------------+--------------------+------+\n",
      "|objectid|  codigo|              nombre|          categoria|          tecnologia|    estado|fecha_instalacion|altitud|    latitud|    longitud|departamento|municipio|      area_operativa|area_hidrografica|zona_hidrografica|observacion|corriente|fecha_suspension|subzona_hidrografica|             entidad|subred|\n",
      "+--------+--------+--------------------+-------------------+--------------------+----------+-----------------+-------+-----------+------------+------------+---------+--------------------+-----------------+-----------------+-----------+---------+----------------+--------------------+--------------------+------+\n",
      "|    null|    null|              nombre|          CATEGORIA|          TECNOLOGIA|    ESTADO|FECHA_INSTALACION|   null|    latitud|    longitud|DEPARTAMENTO|MUNICIPIO|      AREA_OPERATIVA|AREA_HIDROGRAFICA|ZONA_HIDROGRAFICA|observacion|CORRIENTE|FECHA_SUSPENSION|SUBZONA_HIDROGRAFICA|             ENTIDAD|subred|\n",
      "|       1|44135030|CHIRIBIQUETE - AU...|Clim�tica Principal|Autom�tica con Te...|Suspendida|       2006-02-04|    256|-0,07416667|-72,45138889|     Caquet�|   Solano|Area Operativa 04...|         Amazonas|             Yar�|           | Amazonas|      2011-07-29|           R�o Mesay|INSTITUTO DE HIDR...|      |\n",
      "+--------+--------+--------------------+-------------------+--------------------+----------+-----------------+-------+-----------+------------+------------+---------+--------------------+-----------------+-----------------+-----------+---------+----------------+--------------------+--------------------+------+\n",
      "only showing top 2 rows"
     ]
    }
   ],
   "source": [
    "df_stations=spark.sql(\"SELECT * FROM climaticchange.rawstations_catalog\") #Leer Tabla en BD de GLUE\n",
    "df_stations.printSchema() #Revisando el esquema del DataFrame\n",
    "print(df_stations.count()) #Validando número de registros\n",
    "df_stations.show(2)"
   ]
  },
  {
   "cell_type": "code",
   "execution_count": 3,
   "id": "142e699d",
   "metadata": {},
   "outputs": [
    {
     "data": {
      "application/vnd.jupyter.widget-view+json": {
       "model_id": "5d2bba8c3ac2435e913c27a45db1e469",
       "version_major": 2,
       "version_minor": 0
      },
      "text/plain": [
       "FloatProgress(value=0.0, bar_style='info', description='Progress:', layout=Layout(height='25px', width='50%'),…"
      ]
     },
     "metadata": {},
     "output_type": "display_data"
    },
    {
     "name": "stdout",
     "output_type": "stream",
     "text": [
      "['objectid', 'codigo', 'nombre', 'categoria', 'tecnologia', 'estado', 'fecha_instalacion', 'altitud', 'latitud', 'longitud', 'departamento', 'municipio', 'area_operativa', 'area_hidrografica', 'zona_hidrografica', 'observacion', 'corriente', 'fecha_suspension', 'subzona_hidrografica', 'entidad', 'subred']"
     ]
    }
   ],
   "source": [
    "#Analizando las columnas\n",
    "df_stations.columns"
   ]
  },
  {
   "cell_type": "code",
   "execution_count": 4,
   "id": "007c8e2e",
   "metadata": {},
   "outputs": [
    {
     "data": {
      "application/vnd.jupyter.widget-view+json": {
       "model_id": "1920d885ed6c437f9b6220663d8019d7",
       "version_major": 2,
       "version_minor": 0
      },
      "text/plain": [
       "FloatProgress(value=0.0, bar_style='info', description='Progress:', layout=Layout(height='25px', width='50%'),…"
      ]
     },
     "metadata": {},
     "output_type": "display_data"
    },
    {
     "name": "stdout",
     "output_type": "stream",
     "text": [
      "+--------+--------+--------------------+-------------------+--------------------+----------------+-----------------+-------+-----------+------------+------------+-------------------+--------------------+-----------------+-----------------+--------------------+---------+----------------+--------------------+--------------------+\n",
      "|objectid|  codigo|              nombre|          categoria|          tecnologia|          estado|fecha_instalacion|altitud|    latitud|    longitud|departamento|          municipio|      area_operativa|area_hidrografica|zona_hidrografica|         observacion|corriente|fecha_suspension|subzona_hidrografica|             entidad|\n",
      "+--------+--------+--------------------+-------------------+--------------------+----------------+-----------------+-------+-----------+------------+------------+-------------------+--------------------+-----------------+-----------------+--------------------+---------+----------------+--------------------+--------------------+\n",
      "|       1|44135030|CHIRIBIQUETE - AU...|Clim�tica Principal|Autom�tica con Te...|      Suspendida|       2006-02-04|    256|-0,07416667|-72,45138889|     Caquet�|             Solano|Area Operativa 04...|         Amazonas|             Yar�|                    | Amazonas|      2011-07-29|           R�o Mesay|INSTITUTO DE HIDR...|\n",
      "|       2|52055150|CERRO PARAMO  - A...|Clim�tica Principal|Autom�tica con Te...|En Mantenimiento|       2005-12-09|   3585| 0,84311111|-77,38880556|      Nari�o|            Puerres|Area Operativa 07...|         Pacifico|            Pat�a|Cambio de tecnolo...|        0|                |        R�o Gu�itara|INSTITUTO DE HIDR...|\n",
      "|       3|52055220|EL PARAISO - AUT ...|Clim�tica Principal|             TEST005|En Mantenimiento|       2004-03-01|   3120| 1,07061111|-77,63688889|      Nari�o|          T�querres|Area Operativa 07...|         Pacifico|            Pat�a|                    |        0|                |        R�o Gu�itara|INSTITUTO DE HIDR...|\n",
      "|       4|44037040|EL ROSARIO - AUT ...|       Limnigr�fica|             TEST005|En Mantenimiento|       1964-08-15|    600|    1,72525|-75,66638889|     Caquet�|Florencia (Caquet�)|Area Operativa 04...|         Amazonas|          Caquet�|Actualizada Tecno...|   Cara�O|                |       R�o Orteguaza|INSTITUTO DE HIDR...|\n",
      "|       5|52077020|LOS NORTES - AUT ...|       Limnigr�fica|             TEST005|          Activa|       1984-09-15|    340| 1,74111111|-77,53111111|      Nari�o|          Cumbitara|Area Operativa 07...|         Pacifico|            Pat�a|                    |    Patia|                |     R�o Patia Medio|INSTITUTO DE HIDR...|\n",
      "+--------+--------+--------------------+-------------------+--------------------+----------------+-----------------+-------+-----------+------------+------------+-------------------+--------------------+-----------------+-----------------+--------------------+---------+----------------+--------------------+--------------------+\n",
      "only showing top 5 rows"
     ]
    }
   ],
   "source": [
    "#Filtrando columnas innecesarias y códigos iguales a Null\n",
    "df_stations_filtered=df_stations.drop('subred')\n",
    "df_stations_filtered=df_stations_filtered.filter(df_stations['codigo'].isNull()==False)\n",
    "df_stations_filtered.show(5)"
   ]
  },
  {
   "cell_type": "code",
   "execution_count": 5,
   "id": "672942b7",
   "metadata": {},
   "outputs": [
    {
     "data": {
      "application/vnd.jupyter.widget-view+json": {
       "model_id": "2982c856b9c74702a5120a82999201eb",
       "version_major": 2,
       "version_minor": 0
      },
      "text/plain": [
       "FloatProgress(value=0.0, bar_style='info', description='Progress:', layout=Layout(height='25px', width='50%'),…"
      ]
     },
     "metadata": {},
     "output_type": "display_data"
    }
   ],
   "source": [
    "#Guardando resultado\n",
    "url_result_stations='s3://climaticchange-datalake/datasets_ideam/trusted/aux_data/stations_catalog/'\n",
    "df_stations_filtered.write.format(\"csv\").option(\"header\",\"true\").mode(\"overwrite\").save(url_result_stations)"
   ]
  },
  {
   "cell_type": "markdown",
   "id": "112684c6",
   "metadata": {},
   "source": [
    "## 2. Tabla Variables\n",
    "\n",
    "Para crear la `Tabla Variables Trusted`, se deben Leer, Transformar y Consolidar 3 tablas diferentes."
   ]
  },
  {
   "cell_type": "code",
   "execution_count": 6,
   "id": "95e54573",
   "metadata": {},
   "outputs": [
    {
     "data": {
      "application/vnd.jupyter.widget-view+json": {
       "model_id": "1af6897a8dc0409aa0db5e43abe368e6",
       "version_major": 2,
       "version_minor": 0
      },
      "text/plain": [
       "FloatProgress(value=0.0, bar_style='info', description='Progress:', layout=Layout(height='25px', width='50%'),…"
      ]
     },
     "metadata": {},
     "output_type": "display_data"
    },
    {
     "name": "stdout",
     "output_type": "stream",
     "text": [
      "root\n",
      " |-- Tipo Red: string (nullable = true)\n",
      " |-- Parametro: string (nullable = true)\n",
      " |-- Etiqueta: string (nullable = true)\n",
      " |-- Unidad: string (nullable = true)\n",
      " |-- Periodo: string (nullable = true)\n",
      " |-- Descripcion: string (nullable = true)\n",
      "\n",
      "61\n",
      "+--------------+---------+-----------+------+--------+--------------------+\n",
      "|      Tipo Red|Parametro|   Etiqueta|Unidad| Periodo|         Descripcion|\n",
      "+--------------+---------+-----------+------+--------+--------------------+\n",
      "|Convencionales|    Nivel|   NVLG_CON|    cm| Horario|Nivel del rio hor...|\n",
      "|Convencionales|    Nivel|   NVLM_CON|    cm|12 horas|Nivel del rio a l...|\n",
      "|   Autom�ticas|    Nivel|  NV_AUT_60|    cm| Horario|Nivel horario  po...|\n",
      "|   Autom�ticas|    Nivel|NVMN_AUT_60|    cm| Horario|Nivel m�nimo horario|\n",
      "|   Autom�ticas|    Nivel|NVMX_AUT_60|    cm| Horario|Nivel m�ximo horario|\n",
      "+--------------+---------+-----------+------+--------+--------------------+\n",
      "only showing top 5 rows"
     ]
    }
   ],
   "source": [
    "#Tabla 1\n",
    "df_variables_gen=spark.sql(\"SELECT `Tipo Red`,Parametro, Etiqueta,Unidad,Periodo,Descripcion FROM climaticchange.rawcatalogo_catalogovariables_ideam_csv OFFSET 1\")\n",
    "df_variables_gen.printSchema()\n",
    "print(df_variables_gen.count())\n",
    "df_variables_gen.show(5)"
   ]
  },
  {
   "cell_type": "code",
   "execution_count": 7,
   "id": "ddc85ed2",
   "metadata": {},
   "outputs": [
    {
     "data": {
      "application/vnd.jupyter.widget-view+json": {
       "model_id": "20d9b56796b140d89ed6704eccf05948",
       "version_major": 2,
       "version_minor": 0
      },
      "text/plain": [
       "FloatProgress(value=0.0, bar_style='info', description='Progress:', layout=Layout(height='25px', width='50%'),…"
      ]
     },
     "metadata": {},
     "output_type": "display_data"
    },
    {
     "name": "stdout",
     "output_type": "stream",
     "text": [
      "root\n",
      " |-- Tipo Red: string (nullable = true)\n",
      " |-- Parametro: string (nullable = true)\n",
      " |-- Etiqueta: string (nullable = true)\n",
      " |-- Unidad: string (nullable = true)\n",
      " |-- Periodo: string (nullable = true)\n",
      " |-- Descripcion: string (nullable = true)\n",
      "\n",
      "52\n",
      "+------------+---------+----------+------+-------+--------------------+\n",
      "|    Tipo Red|Parametro|  Etiqueta|Unidad|Periodo|         Descripcion|\n",
      "+------------+---------+----------+------+-------+--------------------+\n",
      "|Convencional|    Nivel|   NIVEL_H|    cm|horaria|Nivel horario val...|\n",
      "|Convencional|    Nivel|NV_MEDIA_D|    cm| Diaria|  Nivel medio diario|\n",
      "|Convencional|    Nivel|   NV_MX_D|    cm| Diaria| Nivel m�ximo diario|\n",
      "|Convencional|    Nivel|   NV_MN_D|    cm| Diaria| Nivel m�nimo diario|\n",
      "|Convencional|    Nivel|NV_MEDIA_M|    cm|Mensual| Nivel medio mensual|\n",
      "+------------+---------+----------+------+-------+--------------------+\n",
      "only showing top 5 rows"
     ]
    }
   ],
   "source": [
    "#Tabla 2\n",
    "df_variables_h=spark.sql(\"SELECT `Tipo Red`,Parametro, Etiqueta,Unidad,Periodo,Descripcion FROM climaticchange.rawcatalogovariables_derivadas_h_ideam_csv OFFSET 1\")\n",
    "df_variables_h.printSchema()\n",
    "#df_variables_h = spark.createDataFrame(df_variables_h.tail(df_variables_h.count()-1), df_variables_h.schema)\n",
    "print(df_variables_h.count())\n",
    "df_variables_h.show(5)"
   ]
  },
  {
   "cell_type": "code",
   "execution_count": 8,
   "id": "792df8d8",
   "metadata": {},
   "outputs": [
    {
     "data": {
      "application/vnd.jupyter.widget-view+json": {
       "model_id": "e0bb2ce89a244f54851c422272b60ee2",
       "version_major": 2,
       "version_minor": 0
      },
      "text/plain": [
       "FloatProgress(value=0.0, bar_style='info', description='Progress:', layout=Layout(height='25px', width='50%'),…"
      ]
     },
     "metadata": {},
     "output_type": "display_data"
    },
    {
     "name": "stdout",
     "output_type": "stream",
     "text": [
      "root\n",
      " |-- Tipo Red: string (nullable = true)\n",
      " |-- Parametro: string (nullable = true)\n",
      " |-- Etiqueta: string (nullable = true)\n",
      " |-- Unidad: string (nullable = true)\n",
      " |-- Periodo: string (nullable = true)\n",
      " |-- Descripcion: string (nullable = true)\n",
      "\n",
      "351\n",
      "+--------------+------------+---------+---------+-------+--------------------+\n",
      "|      Tipo Red|   Parametro| Etiqueta|   Unidad|Periodo|         Descripcion|\n",
      "+--------------+------------+---------+---------+-------+--------------------+\n",
      "|Convencionales|BRILLO SOLAR|BSHG_TT_D|horas/sol| Diario|Brillo solar tota...|\n",
      "|Convencionales|BRILLO SOLAR|BSHG_TT_M|horas/sol|Mensual|Brillo solar tota...|\n",
      "|Convencionales|BRILLO SOLAR|BSHG_TT_A|horas/sol|  Anual|Brillo solar tota...|\n",
      "+--------------+------------+---------+---------+-------+--------------------+\n",
      "only showing top 3 rows"
     ]
    }
   ],
   "source": [
    "#Tabla 3\n",
    "df_variables_m=spark.sql(\"SELECT `Tipo Red`,Parametro, Etiqueta,Unidad,Periodo,Descripcion FROM climaticchange.rawcatalogovariables_derivadas_m_ideam_csv OFFSET 1\")\n",
    "df_variables_m.printSchema()\n",
    "#df_variables_m = spark.createDataFrame(df_variables_m.tail(df_variables_m.count()-1), df_variables_m.schema)\n",
    "print(df_variables_m.count())\n",
    "df_variables_m.show(3)"
   ]
  },
  {
   "cell_type": "code",
   "execution_count": 22,
   "id": "3f2969c0",
   "metadata": {},
   "outputs": [
    {
     "data": {
      "application/vnd.jupyter.widget-view+json": {
       "model_id": "dc4c97f4f7ae4cd4bde8eb7e586329cc",
       "version_major": 2,
       "version_minor": 0
      },
      "text/plain": [
       "FloatProgress(value=0.0, bar_style='info', description='Progress:', layout=Layout(height='25px', width='50%'),…"
      ]
     },
     "metadata": {},
     "output_type": "display_data"
    },
    {
     "name": "stdout",
     "output_type": "stream",
     "text": [
      "464"
     ]
    }
   ],
   "source": [
    "#Tabla Consolidada\n",
    "df_consolidated = df_variables_gen.union(df_variables_h).union(df_variables_m)\n",
    "print(df_consolidated.count())\n"
   ]
  },
  {
   "cell_type": "code",
   "execution_count": 15,
   "id": "36aab80f",
   "metadata": {},
   "outputs": [
    {
     "data": {
      "application/vnd.jupyter.widget-view+json": {
       "model_id": "ec8ddf8ff88748e2ae34ba0f9538e415",
       "version_major": 2,
       "version_minor": 0
      },
      "text/plain": [
       "FloatProgress(value=0.0, bar_style='info', description='Progress:', layout=Layout(height='25px', width='50%'),…"
      ]
     },
     "metadata": {},
     "output_type": "display_data"
    }
   ],
   "source": [
    "#Guardando tabla consolidada\n",
    "url_result_variables='s3://climaticchange-datalake/datasets_ideam/trusted/aux_data/variables_catalog/'\n",
    "df_consolidated.write.format(\"csv\").option(\"header\",\"true\").mode(\"overwrite\").save(url_result_variables)"
   ]
  },
  {
   "cell_type": "markdown",
   "id": "8c7c4f03",
   "metadata": {},
   "source": [
    "### 3. Tabla variables climáticas\n",
    "\n"
   ]
  },
  {
   "cell_type": "code",
   "execution_count": 16,
   "id": "cc36e337",
   "metadata": {
    "scrolled": false
   },
   "outputs": [
    {
     "data": {
      "application/vnd.jupyter.widget-view+json": {
       "model_id": "84ffd5d8a6fd4be9b5b7cc189df400da",
       "version_major": 2,
       "version_minor": 0
      },
      "text/plain": [
       "FloatProgress(value=0.0, bar_style='info', description='Progress:', layout=Layout(height='25px', width='50%'),…"
      ]
     },
     "metadata": {},
     "output_type": "display_data"
    },
    {
     "name": "stdout",
     "output_type": "stream",
     "text": [
      "Sin quitar null: 41534\n",
      "root\n",
      " |-- codigoestacion: long (nullable = true)\n",
      " |-- entidad: string (nullable = true)\n",
      " |-- etiqueta: string (nullable = true)\n",
      " |-- fecha: string (nullable = true)\n",
      " |-- valor: double (nullable = true)\n",
      "\n",
      "Despues de quitar null: 41529\n",
      "+--------------+--------------------+-----------+----------------+-----+\n",
      "|codigoestacion|             entidad|   etiqueta|           fecha|valor|\n",
      "+--------------+--------------------+-----------+----------------+-----+\n",
      "|      26205080|INSTITUTO DE HIDR...|HR_CAL_MX_D|2020-03-29 00:00| 88.0|\n",
      "|      26205080|INSTITUTO DE HIDR...|HR_CAL_MX_D|2020-03-30 00:00| 96.0|\n",
      "|      26205080|INSTITUTO DE HIDR...|HR_CAL_MX_D|2020-03-31 00:00| 94.0|\n",
      "|      26205080|INSTITUTO DE HIDR...|HR_CAL_MX_D|2020-04-01 00:00| 96.0|\n",
      "|      26205080|INSTITUTO DE HIDR...|HR_CAL_MX_D|2020-04-02 00:00| 90.0|\n",
      "+--------------+--------------------+-----------+----------------+-----+\n",
      "only showing top 5 rows"
     ]
    }
   ],
   "source": [
    "df_hist=spark.sql(\"SELECT codigoestacion,entidad,etiqueta,fecha,valor FROM climaticchange.rawhist_data\") #Leer Tabla en BD de GLUE\n",
    "print(\"Sin quitar null:\" ,df_hist.count())\n",
    "df_hist=df_hist.filter(df_hist['codigoestacion'].isNull()==False)\n",
    "df_hist.printSchema() #Revisando el esquema del DataFrame\n",
    "print(\"Despues de quitar null:\",df_hist.count()) #Validando número de registros\n",
    "df_hist.show(5)"
   ]
  },
  {
   "cell_type": "code",
   "execution_count": 19,
   "id": "22dcaf2c",
   "metadata": {},
   "outputs": [
    {
     "data": {
      "application/vnd.jupyter.widget-view+json": {
       "model_id": "531622a234f24c10a978f89a53f63abd",
       "version_major": 2,
       "version_minor": 0
      },
      "text/plain": [
       "FloatProgress(value=0.0, bar_style='info', description='Progress:', layout=Layout(height='25px', width='50%'),…"
      ]
     },
     "metadata": {},
     "output_type": "display_data"
    }
   ],
   "source": [
    "#Guardando tabla filtrada\n",
    "url_result_variables='s3://climaticchange-datalake/datasets_ideam/trusted/hist_data/'\n",
    "df_hist.write.format(\"csv\").option(\"header\",\"true\").mode(\"overwrite\").save(url_result_variables)"
   ]
  }
 ],
 "metadata": {
  "kernelspec": {
   "display_name": "PySpark",
   "language": "python",
   "name": "pysparkkernel"
  },
  "language_info": {
   "codemirror_mode": {
    "name": "python",
    "version": 3
   },
   "file_extension": ".py",
   "mimetype": "text/x-python",
   "name": "pyspark",
   "pygments_lexer": "python3"
  }
 },
 "nbformat": 4,
 "nbformat_minor": 5
}
